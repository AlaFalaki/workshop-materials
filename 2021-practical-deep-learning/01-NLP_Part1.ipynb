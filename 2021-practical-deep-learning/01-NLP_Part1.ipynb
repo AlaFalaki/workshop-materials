{
  "nbformat": 4,
  "nbformat_minor": 0,
  "metadata": {
    "colab": {
      "name": "01-NLP_Part1.ipynb",
      "provenance": [],
      "collapsed_sections": [],
      "toc_visible": true
    },
    "kernelspec": {
      "display_name": "Python 3",
      "name": "python3"
    },
    "language_info": {
      "name": "python"
    },
    "widgets": {
      "application/vnd.jupyter.widget-state+json": {
        "9321ac32445446b0a8659e727d2cdc01": {
          "model_module": "@jupyter-widgets/controls",
          "model_name": "HBoxModel",
          "state": {
            "_view_name": "HBoxView",
            "_dom_classes": [],
            "_model_name": "HBoxModel",
            "_view_module": "@jupyter-widgets/controls",
            "_model_module_version": "1.5.0",
            "_view_count": null,
            "_view_module_version": "1.5.0",
            "box_style": "",
            "layout": "IPY_MODEL_d0a7abc1f7db40e4a87244ce302612d8",
            "_model_module": "@jupyter-widgets/controls",
            "children": [
              "IPY_MODEL_d008b15411bb4482bf9b3258ada01406",
              "IPY_MODEL_952ced195f0040cdbc6ccdb88070ea17"
            ]
          }
        },
        "d0a7abc1f7db40e4a87244ce302612d8": {
          "model_module": "@jupyter-widgets/base",
          "model_name": "LayoutModel",
          "state": {
            "_view_name": "LayoutView",
            "grid_template_rows": null,
            "right": null,
            "justify_content": null,
            "_view_module": "@jupyter-widgets/base",
            "overflow": null,
            "_model_module_version": "1.2.0",
            "_view_count": null,
            "flex_flow": null,
            "width": null,
            "min_width": null,
            "border": null,
            "align_items": null,
            "bottom": null,
            "_model_module": "@jupyter-widgets/base",
            "top": null,
            "grid_column": null,
            "overflow_y": null,
            "overflow_x": null,
            "grid_auto_flow": null,
            "grid_area": null,
            "grid_template_columns": null,
            "flex": null,
            "_model_name": "LayoutModel",
            "justify_items": null,
            "grid_row": null,
            "max_height": null,
            "align_content": null,
            "visibility": null,
            "align_self": null,
            "height": null,
            "min_height": null,
            "padding": null,
            "grid_auto_rows": null,
            "grid_gap": null,
            "max_width": null,
            "order": null,
            "_view_module_version": "1.2.0",
            "grid_template_areas": null,
            "object_position": null,
            "object_fit": null,
            "grid_auto_columns": null,
            "margin": null,
            "display": null,
            "left": null
          }
        },
        "d008b15411bb4482bf9b3258ada01406": {
          "model_module": "@jupyter-widgets/controls",
          "model_name": "FloatProgressModel",
          "state": {
            "_view_name": "ProgressView",
            "style": "IPY_MODEL_59c4719acf9c4cde8119cc1fb36add09",
            "_dom_classes": [],
            "description": "100%",
            "_model_name": "FloatProgressModel",
            "bar_style": "success",
            "max": 12500,
            "_view_module": "@jupyter-widgets/controls",
            "_model_module_version": "1.5.0",
            "value": 12500,
            "_view_count": null,
            "_view_module_version": "1.5.0",
            "orientation": "horizontal",
            "min": 0,
            "description_tooltip": null,
            "_model_module": "@jupyter-widgets/controls",
            "layout": "IPY_MODEL_43b74464fe3f4c95b6ed931b92343898"
          }
        },
        "952ced195f0040cdbc6ccdb88070ea17": {
          "model_module": "@jupyter-widgets/controls",
          "model_name": "HTMLModel",
          "state": {
            "_view_name": "HTMLView",
            "style": "IPY_MODEL_c0b8cac04708431db5609b124f771aee",
            "_dom_classes": [],
            "description": "",
            "_model_name": "HTMLModel",
            "placeholder": "​",
            "_view_module": "@jupyter-widgets/controls",
            "_model_module_version": "1.5.0",
            "value": " 12500/12500 [00:48&lt;00:00, 256.89it/s]",
            "_view_count": null,
            "_view_module_version": "1.5.0",
            "description_tooltip": null,
            "_model_module": "@jupyter-widgets/controls",
            "layout": "IPY_MODEL_e9309b5357cc4112bdc1270dc8606fb9"
          }
        },
        "59c4719acf9c4cde8119cc1fb36add09": {
          "model_module": "@jupyter-widgets/controls",
          "model_name": "ProgressStyleModel",
          "state": {
            "_view_name": "StyleView",
            "_model_name": "ProgressStyleModel",
            "description_width": "initial",
            "_view_module": "@jupyter-widgets/base",
            "_model_module_version": "1.5.0",
            "_view_count": null,
            "_view_module_version": "1.2.0",
            "bar_color": null,
            "_model_module": "@jupyter-widgets/controls"
          }
        },
        "43b74464fe3f4c95b6ed931b92343898": {
          "model_module": "@jupyter-widgets/base",
          "model_name": "LayoutModel",
          "state": {
            "_view_name": "LayoutView",
            "grid_template_rows": null,
            "right": null,
            "justify_content": null,
            "_view_module": "@jupyter-widgets/base",
            "overflow": null,
            "_model_module_version": "1.2.0",
            "_view_count": null,
            "flex_flow": null,
            "width": null,
            "min_width": null,
            "border": null,
            "align_items": null,
            "bottom": null,
            "_model_module": "@jupyter-widgets/base",
            "top": null,
            "grid_column": null,
            "overflow_y": null,
            "overflow_x": null,
            "grid_auto_flow": null,
            "grid_area": null,
            "grid_template_columns": null,
            "flex": null,
            "_model_name": "LayoutModel",
            "justify_items": null,
            "grid_row": null,
            "max_height": null,
            "align_content": null,
            "visibility": null,
            "align_self": null,
            "height": null,
            "min_height": null,
            "padding": null,
            "grid_auto_rows": null,
            "grid_gap": null,
            "max_width": null,
            "order": null,
            "_view_module_version": "1.2.0",
            "grid_template_areas": null,
            "object_position": null,
            "object_fit": null,
            "grid_auto_columns": null,
            "margin": null,
            "display": null,
            "left": null
          }
        },
        "c0b8cac04708431db5609b124f771aee": {
          "model_module": "@jupyter-widgets/controls",
          "model_name": "DescriptionStyleModel",
          "state": {
            "_view_name": "StyleView",
            "_model_name": "DescriptionStyleModel",
            "description_width": "",
            "_view_module": "@jupyter-widgets/base",
            "_model_module_version": "1.5.0",
            "_view_count": null,
            "_view_module_version": "1.2.0",
            "_model_module": "@jupyter-widgets/controls"
          }
        },
        "e9309b5357cc4112bdc1270dc8606fb9": {
          "model_module": "@jupyter-widgets/base",
          "model_name": "LayoutModel",
          "state": {
            "_view_name": "LayoutView",
            "grid_template_rows": null,
            "right": null,
            "justify_content": null,
            "_view_module": "@jupyter-widgets/base",
            "overflow": null,
            "_model_module_version": "1.2.0",
            "_view_count": null,
            "flex_flow": null,
            "width": null,
            "min_width": null,
            "border": null,
            "align_items": null,
            "bottom": null,
            "_model_module": "@jupyter-widgets/base",
            "top": null,
            "grid_column": null,
            "overflow_y": null,
            "overflow_x": null,
            "grid_auto_flow": null,
            "grid_area": null,
            "grid_template_columns": null,
            "flex": null,
            "_model_name": "LayoutModel",
            "justify_items": null,
            "grid_row": null,
            "max_height": null,
            "align_content": null,
            "visibility": null,
            "align_self": null,
            "height": null,
            "min_height": null,
            "padding": null,
            "grid_auto_rows": null,
            "grid_gap": null,
            "max_width": null,
            "order": null,
            "_view_module_version": "1.2.0",
            "grid_template_areas": null,
            "object_position": null,
            "object_fit": null,
            "grid_auto_columns": null,
            "margin": null,
            "display": null,
            "left": null
          }
        },
        "31b17ceaf32f4b058514d922b4f35ae9": {
          "model_module": "@jupyter-widgets/controls",
          "model_name": "HBoxModel",
          "state": {
            "_view_name": "HBoxView",
            "_dom_classes": [],
            "_model_name": "HBoxModel",
            "_view_module": "@jupyter-widgets/controls",
            "_model_module_version": "1.5.0",
            "_view_count": null,
            "_view_module_version": "1.5.0",
            "box_style": "",
            "layout": "IPY_MODEL_d79f6e2d4c494dc59e4f94c23d0a6eb8",
            "_model_module": "@jupyter-widgets/controls",
            "children": [
              "IPY_MODEL_979ed57b818a4572b44443862036801d",
              "IPY_MODEL_b81b90a4a5d049fabc0cb55429c027b2"
            ]
          }
        },
        "d79f6e2d4c494dc59e4f94c23d0a6eb8": {
          "model_module": "@jupyter-widgets/base",
          "model_name": "LayoutModel",
          "state": {
            "_view_name": "LayoutView",
            "grid_template_rows": null,
            "right": null,
            "justify_content": null,
            "_view_module": "@jupyter-widgets/base",
            "overflow": null,
            "_model_module_version": "1.2.0",
            "_view_count": null,
            "flex_flow": null,
            "width": null,
            "min_width": null,
            "border": null,
            "align_items": null,
            "bottom": null,
            "_model_module": "@jupyter-widgets/base",
            "top": null,
            "grid_column": null,
            "overflow_y": null,
            "overflow_x": null,
            "grid_auto_flow": null,
            "grid_area": null,
            "grid_template_columns": null,
            "flex": null,
            "_model_name": "LayoutModel",
            "justify_items": null,
            "grid_row": null,
            "max_height": null,
            "align_content": null,
            "visibility": null,
            "align_self": null,
            "height": null,
            "min_height": null,
            "padding": null,
            "grid_auto_rows": null,
            "grid_gap": null,
            "max_width": null,
            "order": null,
            "_view_module_version": "1.2.0",
            "grid_template_areas": null,
            "object_position": null,
            "object_fit": null,
            "grid_auto_columns": null,
            "margin": null,
            "display": null,
            "left": null
          }
        },
        "979ed57b818a4572b44443862036801d": {
          "model_module": "@jupyter-widgets/controls",
          "model_name": "FloatProgressModel",
          "state": {
            "_view_name": "ProgressView",
            "style": "IPY_MODEL_e13b341b911f4ab7a086b6478e37aa64",
            "_dom_classes": [],
            "description": "100%",
            "_model_name": "FloatProgressModel",
            "bar_style": "success",
            "max": 12500,
            "_view_module": "@jupyter-widgets/controls",
            "_model_module_version": "1.5.0",
            "value": 12500,
            "_view_count": null,
            "_view_module_version": "1.5.0",
            "orientation": "horizontal",
            "min": 0,
            "description_tooltip": null,
            "_model_module": "@jupyter-widgets/controls",
            "layout": "IPY_MODEL_1c8f02b1a3b24da6a4cb089a12dbafe1"
          }
        },
        "b81b90a4a5d049fabc0cb55429c027b2": {
          "model_module": "@jupyter-widgets/controls",
          "model_name": "HTMLModel",
          "state": {
            "_view_name": "HTMLView",
            "style": "IPY_MODEL_89e23c88ad484501ad40bf486b3aed03",
            "_dom_classes": [],
            "description": "",
            "_model_name": "HTMLModel",
            "placeholder": "​",
            "_view_module": "@jupyter-widgets/controls",
            "_model_module_version": "1.5.0",
            "value": " 12500/12500 [00:44&lt;00:00, 278.35it/s]",
            "_view_count": null,
            "_view_module_version": "1.5.0",
            "description_tooltip": null,
            "_model_module": "@jupyter-widgets/controls",
            "layout": "IPY_MODEL_1a773538759c46728b05eec7cd93acca"
          }
        },
        "e13b341b911f4ab7a086b6478e37aa64": {
          "model_module": "@jupyter-widgets/controls",
          "model_name": "ProgressStyleModel",
          "state": {
            "_view_name": "StyleView",
            "_model_name": "ProgressStyleModel",
            "description_width": "initial",
            "_view_module": "@jupyter-widgets/base",
            "_model_module_version": "1.5.0",
            "_view_count": null,
            "_view_module_version": "1.2.0",
            "bar_color": null,
            "_model_module": "@jupyter-widgets/controls"
          }
        },
        "1c8f02b1a3b24da6a4cb089a12dbafe1": {
          "model_module": "@jupyter-widgets/base",
          "model_name": "LayoutModel",
          "state": {
            "_view_name": "LayoutView",
            "grid_template_rows": null,
            "right": null,
            "justify_content": null,
            "_view_module": "@jupyter-widgets/base",
            "overflow": null,
            "_model_module_version": "1.2.0",
            "_view_count": null,
            "flex_flow": null,
            "width": null,
            "min_width": null,
            "border": null,
            "align_items": null,
            "bottom": null,
            "_model_module": "@jupyter-widgets/base",
            "top": null,
            "grid_column": null,
            "overflow_y": null,
            "overflow_x": null,
            "grid_auto_flow": null,
            "grid_area": null,
            "grid_template_columns": null,
            "flex": null,
            "_model_name": "LayoutModel",
            "justify_items": null,
            "grid_row": null,
            "max_height": null,
            "align_content": null,
            "visibility": null,
            "align_self": null,
            "height": null,
            "min_height": null,
            "padding": null,
            "grid_auto_rows": null,
            "grid_gap": null,
            "max_width": null,
            "order": null,
            "_view_module_version": "1.2.0",
            "grid_template_areas": null,
            "object_position": null,
            "object_fit": null,
            "grid_auto_columns": null,
            "margin": null,
            "display": null,
            "left": null
          }
        },
        "89e23c88ad484501ad40bf486b3aed03": {
          "model_module": "@jupyter-widgets/controls",
          "model_name": "DescriptionStyleModel",
          "state": {
            "_view_name": "StyleView",
            "_model_name": "DescriptionStyleModel",
            "description_width": "",
            "_view_module": "@jupyter-widgets/base",
            "_model_module_version": "1.5.0",
            "_view_count": null,
            "_view_module_version": "1.2.0",
            "_model_module": "@jupyter-widgets/controls"
          }
        },
        "1a773538759c46728b05eec7cd93acca": {
          "model_module": "@jupyter-widgets/base",
          "model_name": "LayoutModel",
          "state": {
            "_view_name": "LayoutView",
            "grid_template_rows": null,
            "right": null,
            "justify_content": null,
            "_view_module": "@jupyter-widgets/base",
            "overflow": null,
            "_model_module_version": "1.2.0",
            "_view_count": null,
            "flex_flow": null,
            "width": null,
            "min_width": null,
            "border": null,
            "align_items": null,
            "bottom": null,
            "_model_module": "@jupyter-widgets/base",
            "top": null,
            "grid_column": null,
            "overflow_y": null,
            "overflow_x": null,
            "grid_auto_flow": null,
            "grid_area": null,
            "grid_template_columns": null,
            "flex": null,
            "_model_name": "LayoutModel",
            "justify_items": null,
            "grid_row": null,
            "max_height": null,
            "align_content": null,
            "visibility": null,
            "align_self": null,
            "height": null,
            "min_height": null,
            "padding": null,
            "grid_auto_rows": null,
            "grid_gap": null,
            "max_width": null,
            "order": null,
            "_view_module_version": "1.2.0",
            "grid_template_areas": null,
            "object_position": null,
            "object_fit": null,
            "grid_auto_columns": null,
            "margin": null,
            "display": null,
            "left": null
          }
        }
      }
    },
    "accelerator": "GPU"
  },
  "cells": [
    {
      "cell_type": "markdown",
      "metadata": {
        "id": "v6O8f0gTlyjC"
      },
      "source": [
        "<a href=\"https://colab.research.google.com/github/AlaFalaki/workshop-materials/blob/main/2021-practical-deep-learning/01-NLP_Part1.ipynb\" target=”_blank”> <img src=\"https://colab.research.google.com/assets/colab-badge.svg\" /> </a>\n",
        "\n",
        "*Highly Recommend opening this notebook on Google Colab. A number of Text cells will not show up on GitHub.*"
      ]
    },
    {
      "cell_type": "code",
      "metadata": {
        "colab": {
          "base_uri": "https://localhost:8080/",
          "height": 195
        },
        "id": "GGrPmB7EX0SZ",
        "cellView": "form",
        "outputId": "84bec36f-3941-4f02-b9c5-baa7deb5add7"
      },
      "source": [
        "#@title Practical Deep Learning\n",
        "\n",
        "%%html\n",
        "<style>\n",
        "  img {border:3px solid #EAF6F6;\n",
        "      border-radius: 50%;}\n",
        "  .info{\n",
        "    padding-left: 20px;\n",
        "  }\n",
        "</style>\n",
        "\n",
        "<table>\n",
        "  <tr>\n",
        "    <td><img width=\"150\" src=\"https://media-exp1.licdn.com/dms/image/C5603AQH3ZVutU1lbSQ/profile-displayphoto-shrink_400_400/0/1540929830980?e=1631145600&v=beta&t=kb8AhgnwuunEIupnjEU1R_NPkwZCZhdyrsB_RdjdKSI\" /></td>\n",
        "    <td class=\"info\">\n",
        "      <h1>Ala Alam Falaki</h1>\n",
        "      <h3>PhD Candidate <small><i>(@UofW)</i></small></h3>\n",
        "        Research Interest:<br />\n",
        "        <ul>\n",
        "          <li>Natural Language Processing</li>\n",
        "          <li>Generative Models</li>\n",
        "          <li>Automatic Text Summarization</li>\n",
        "        </ul>\n",
        "    </td>\n",
        "  </tr>\n",
        "</table>"
      ],
      "execution_count": null,
      "outputs": [
        {
          "output_type": "display_data",
          "data": {
            "text/html": [
              "<style>\n",
              "  img {border:3px solid #EAF6F6;\n",
              "      border-radius: 50%;}\n",
              "  .info{\n",
              "    padding-left: 20px;\n",
              "  }\n",
              "</style>\n",
              "\n",
              "<table>\n",
              "  <tr>\n",
              "    <td><img width=\"150\" src=\"https://media-exp1.licdn.com/dms/image/C5603AQH3ZVutU1lbSQ/profile-displayphoto-shrink_400_400/0/1540929830980?e=1631145600&v=beta&t=kb8AhgnwuunEIupnjEU1R_NPkwZCZhdyrsB_RdjdKSI\" /></td>\n",
              "    <td class=\"info\">\n",
              "      <h1>Ala Alam Falaki</h1>\n",
              "      <h3>PhD Candidate <small><i>(@UofW)</i></small></h3>\n",
              "        Research Interest:<br />\n",
              "        <ul>\n",
              "          <li>Natural Language Processing</li>\n",
              "          <li>Generative Models</li>\n",
              "          <li>Automatic Text Summarization</li>\n",
              "        </ul>\n",
              "    </td>\n",
              "  </tr>\n",
              "</table>"
            ],
            "text/plain": [
              "<IPython.core.display.HTML object>"
            ]
          },
          "metadata": {
            "tags": []
          }
        }
      ]
    },
    {
      "cell_type": "markdown",
      "metadata": {
        "id": "vxjOkBiuJ7ol"
      },
      "source": [
        "# Part 1: Sentiment Analysis (Text Classification)\n",
        "\n",
        "* Text Classification Examples\n",
        "  * Social Media Analysis\n",
        "  * Spam Detection\n",
        "  * Tag Enquiries (Sent to Different Departments)\n",
        "  * Categorize Articles, ...\n",
        "* Code-first Approach to Deep Learning\n",
        "* Focus on FastAI library.\n",
        " * Get near SOTA score with minimal code\n",
        "\n"
      ]
    },
    {
      "cell_type": "markdown",
      "metadata": {
        "id": "H9Kvf_a4GVg1"
      },
      "source": [
        "# How to use Google Colab?"
      ]
    },
    {
      "cell_type": "markdown",
      "metadata": {
        "id": "BWKaVGKGGbEm"
      },
      "source": [
        "> There are two types of cells:\n",
        "> *   Text\n",
        "> *   Code \n",
        "> \n",
        "> You can run each cell by pressing on the ▶️ button at its left side, or press \"Command+Enter\" (\"Ctrl+Enter\" for Windows).\n",
        "\n"
      ]
    },
    {
      "cell_type": "code",
      "metadata": {
        "colab": {
          "base_uri": "https://localhost:8080/"
        },
        "id": "QhD9BJikGVQf",
        "outputId": "bbaf5387-aa64-48ba-ae5c-27686dcc1947"
      },
      "source": [
        "a = 2\n",
        "b = 2\n",
        "\n",
        "print( a + b )"
      ],
      "execution_count": null,
      "outputs": [
        {
          "output_type": "stream",
          "text": [
            "4\n"
          ],
          "name": "stdout"
        }
      ]
    },
    {
      "cell_type": "markdown",
      "metadata": {
        "id": "UZh85AWrwVuS"
      },
      "source": [
        "> And, you have access to free GPU for ~12 hours per day. <br />\n",
        "> From the top menu, select \"Runtime > Change Runtime Type\" and you can select from 3 options: <br />\n",
        "> 1. None: Run your codes on CPU\n",
        "> 2. GPU\n",
        "> 3. TPU\n",
        "\n"
      ]
    },
    {
      "cell_type": "markdown",
      "metadata": {
        "id": "86WQwYW_HMfi"
      },
      "source": [
        "> You can also call Linux command in the code cells by putting a \"!\" before them."
      ]
    },
    {
      "cell_type": "code",
      "metadata": {
        "colab": {
          "base_uri": "https://localhost:8080/"
        },
        "id": "4RDadmgsHLQx",
        "outputId": "710e1994-4b7b-4505-fffe-d2de0fd3cfee"
      },
      "source": [
        "!ls"
      ],
      "execution_count": null,
      "outputs": [
        {
          "output_type": "stream",
          "text": [
            "aclImdb  imdb-word2vec.model  sample_data\n"
          ],
          "name": "stdout"
        }
      ]
    },
    {
      "cell_type": "markdown",
      "metadata": {
        "id": "6YoygaagkZXr"
      },
      "source": [
        "# Install FastAI2"
      ]
    },
    {
      "cell_type": "markdown",
      "metadata": {
        "id": "FQIHL4dKjham"
      },
      "source": [
        "> Run the cell below to install FastAI2. <br /><br />\n",
        "> ⚠️ Make sure to restart the current runtime after the installation for changes to affect. Select 'Runtime' From the top menu and click on 'Restart Runtime'."
      ]
    },
    {
      "cell_type": "code",
      "metadata": {
        "id": "JE4ETrVnh7aN",
        "colab": {
          "base_uri": "https://localhost:8080/"
        },
        "outputId": "35998fed-f4b3-4438-ae3a-5d156df0f613"
      },
      "source": [
        "!pip install -Uq fastai"
      ],
      "execution_count": null,
      "outputs": [
        {
          "output_type": "stream",
          "text": [
            "\u001b[K     |████████████████████████████████| 194kB 5.1MB/s \n",
            "\u001b[K     |████████████████████████████████| 61kB 4.6MB/s \n",
            "\u001b[?25h"
          ],
          "name": "stdout"
        }
      ]
    },
    {
      "cell_type": "markdown",
      "metadata": {
        "id": "Q6VbeSF9dB85"
      },
      "source": [
        "# How to Feed Text to Neural Network?"
      ]
    },
    {
      "cell_type": "markdown",
      "metadata": {
        "id": "Bl1YZPiJftue"
      },
      "source": [
        "> Comparing to Vision, there is an extra step (called tokenization) to feed data to NN models. <br /><br />\n",
        "> 1. Concatenate the dataset\n",
        "> 2. Tokenize\n",
        "> 3. Make a vacabulary (Numericalize)\n",
        "> 4. **Chose the Represenation!**\n",
        "\n",
        "> Let's see an example:"
      ]
    },
    {
      "cell_type": "markdown",
      "metadata": {
        "id": "ZWCIpDkOnilt"
      },
      "source": [
        "## 1. Concatenate"
      ]
    },
    {
      "cell_type": "code",
      "metadata": {
        "id": "Q1V18QfOdBiR"
      },
      "source": [
        "dataset = [\"She went to the stadium\", \"It's going to be legendary\"]"
      ],
      "execution_count": null,
      "outputs": []
    },
    {
      "cell_type": "code",
      "metadata": {
        "id": "CYCPPyTcfBbh"
      },
      "source": [
        "dataset_merged = \" \".join( dataset )"
      ],
      "execution_count": null,
      "outputs": []
    },
    {
      "cell_type": "code",
      "metadata": {
        "colab": {
          "base_uri": "https://localhost:8080/",
          "height": 35
        },
        "id": "ywaZx1FIfKiG",
        "outputId": "560811f2-f5ac-4e51-d88c-46cde7afa36c"
      },
      "source": [
        "dataset_merged"
      ],
      "execution_count": null,
      "outputs": [
        {
          "output_type": "execute_result",
          "data": {
            "application/vnd.google.colaboratory.intrinsic+json": {
              "type": "string"
            },
            "text/plain": [
              "\"She went to the stadium It's going to be legendary\""
            ]
          },
          "metadata": {
            "tags": []
          },
          "execution_count": 4
        }
      ]
    },
    {
      "cell_type": "markdown",
      "metadata": {
        "id": "f2i43dUCo92a"
      },
      "source": [
        "## 2. Tokenize"
      ]
    },
    {
      "cell_type": "markdown",
      "metadata": {
        "id": "2rJc-yA3pAvx"
      },
      "source": [
        "<center> <img src=\"https://miro.medium.com/max/640/1*RcSo3UpBTorMI6YJvVizSg.jpeg\" /> </center>\n",
        "<center><small> Credit: <a href=\"https://nlpiation.medium.com/how-to-use-huggingfaces-transformers-pre-trained-tokenizers-e029e8d6d1fa\">NLPiation</a> </small></center>"
      ]
    },
    {
      "cell_type": "code",
      "metadata": {
        "colab": {
          "base_uri": "https://localhost:8080/"
        },
        "id": "NN0iedxhveXp",
        "outputId": "4b9fdfb6-ad96-463a-87ea-7558138809dc"
      },
      "source": [
        "import numpy\n",
        "dataset_merged = numpy.array( dataset_merged.split(\" \") )\n",
        "\n",
        "print(dataset_merged)"
      ],
      "execution_count": null,
      "outputs": [
        {
          "output_type": "stream",
          "text": [
            "['She' 'went' 'to' 'the' 'stadium' \"It's\" 'going' 'to' 'be' 'legendary']\n"
          ],
          "name": "stdout"
        }
      ]
    },
    {
      "cell_type": "markdown",
      "metadata": {
        "id": "B87xI7OE8bDq"
      },
      "source": [
        "## 3. Make Vacabulary"
      ]
    },
    {
      "cell_type": "markdown",
      "metadata": {
        "id": "wuiXsuextMIQ"
      },
      "source": [
        "> Make a list of all the unique tokens with their respective indexes."
      ]
    },
    {
      "cell_type": "code",
      "metadata": {
        "colab": {
          "base_uri": "https://localhost:8080/"
        },
        "id": "xrVtPQGUmj3W",
        "outputId": "2895faf0-3a4a-48ab-f738-24158c752674"
      },
      "source": [
        "from sklearn.preprocessing import LabelEncoder\n",
        "\n",
        "label_encoder   = LabelEncoder()\n",
        "label_encoder.fit( dataset_merged )\n",
        "\n",
        "print( \"Vocabs:\", label_encoder.classes_ )\n",
        "print( \"indexes:\", [i for i in range(0, 9)])\n",
        "print( \"Number of Words:\", len(label_encoder.classes_) )"
      ],
      "execution_count": null,
      "outputs": [
        {
          "output_type": "stream",
          "text": [
            "Vocabs: [\"It's\" 'She' 'be' 'going' 'legendary' 'stadium' 'the' 'to' 'went']\n",
            "indexes: [0, 1, 2, 3, 4, 5, 6, 7, 8]\n",
            "Number of Words: 9\n"
          ],
          "name": "stdout"
        }
      ]
    },
    {
      "cell_type": "markdown",
      "metadata": {
        "id": "b7IYjKBsgI_R"
      },
      "source": [
        "> ⚠️ It is not possible to make a vocabulary of all the available words in the document in real-world applications. We will only pick the most frequent words. There is always an special \"Unknown\" token to deal with Out Of Vocabulary (OOV) tokens."
      ]
    },
    {
      "cell_type": "code",
      "metadata": {
        "colab": {
          "base_uri": "https://localhost:8080/"
        },
        "id": "zQRYptnTwQIj",
        "outputId": "517dbbee-7000-4e45-8e71-0f5925accdb4"
      },
      "source": [
        "encoded = label_encoder.fit_transform( dataset_merged )\n",
        "\n",
        "encoded = encoded.reshape(len(encoded), 1)\n",
        "print(encoded)"
      ],
      "execution_count": null,
      "outputs": [
        {
          "output_type": "stream",
          "text": [
            "[[1]\n",
            " [8]\n",
            " [7]\n",
            " [6]\n",
            " [5]\n",
            " [0]\n",
            " [3]\n",
            " [7]\n",
            " [2]\n",
            " [4]]\n"
          ],
          "name": "stdout"
        }
      ]
    },
    {
      "cell_type": "markdown",
      "metadata": {
        "id": "sMEgv8EG8fNa"
      },
      "source": [
        "## 4. Representation: 1-hot Encoding"
      ]
    },
    {
      "cell_type": "markdown",
      "metadata": {
        "id": "DFBhZMGxt7le"
      },
      "source": [
        "It's|She|be|going|legendary|stadium|the|to|went|↓\n",
        "-|-|-|-|-|-|-|-|-|-\n",
        "0|0|0|0|0|0|0|0|0|-\n",
        "1|0|0|0|0|0|0|0|0|It's\n",
        "0|1|0|0|0|0|0|0|0|She\n",
        "0|0|1|0|0|0|0|0|0|be"
      ]
    },
    {
      "cell_type": "code",
      "metadata": {
        "colab": {
          "base_uri": "https://localhost:8080/"
        },
        "id": "_tWGuUaCwIzI",
        "outputId": "c00985c6-58db-49a7-bd15-7eef4d2c221e"
      },
      "source": [
        "from sklearn.preprocessing import OneHotEncoder\n",
        "\n",
        "onehot_encoder = OneHotEncoder(sparse=False)\n",
        "onehot_encoded = onehot_encoder.fit_transform(encoded)\n",
        "print(onehot_encoded)"
      ],
      "execution_count": null,
      "outputs": [
        {
          "output_type": "stream",
          "text": [
            "[[0. 1. 0. 0. 0. 0. 0. 0. 0.]\n",
            " [0. 0. 0. 0. 0. 0. 0. 0. 1.]\n",
            " [0. 0. 0. 0. 0. 0. 0. 1. 0.]\n",
            " [0. 0. 0. 0. 0. 0. 1. 0. 0.]\n",
            " [0. 0. 0. 0. 0. 1. 0. 0. 0.]\n",
            " [1. 0. 0. 0. 0. 0. 0. 0. 0.]\n",
            " [0. 0. 0. 1. 0. 0. 0. 0. 0.]\n",
            " [0. 0. 0. 0. 0. 0. 0. 1. 0.]\n",
            " [0. 0. 1. 0. 0. 0. 0. 0. 0.]\n",
            " [0. 0. 0. 0. 1. 0. 0. 0. 0.]]\n"
          ],
          "name": "stdout"
        }
      ]
    },
    {
      "cell_type": "markdown",
      "metadata": {
        "id": "WI8spIkN8myJ"
      },
      "source": [
        "> One-hot encoding is not a good representation. Most of the indexes in the vector do not hold any meaningful information (0s), and the indexes that are 1s, do not provide a measure of similarity!"
      ]
    },
    {
      "cell_type": "markdown",
      "metadata": {
        "id": "tXKiSrCuCujT"
      },
      "source": [
        "## 4. Representation: What is Word2Vec?\n",
        "\n",
        "\n",
        "\n"
      ]
    },
    {
      "cell_type": "markdown",
      "metadata": {
        "id": "O4BgzUQmWQrO"
      },
      "source": [
        "<center> <img width=\"400\" src=\"https://raw.githubusercontent.com/AlaFalaki/workshop-materials/main/2021-practical-deep-learning/materials/word2vec.png\" /> </center>\n",
        "\n",
        "\n",
        "> Word2Vec [2] is a self-supervised algorithm to create meaningful embedding for words. The pre-trained version of the model that trained on large corpus (like News datasets) is available for downloading. It try to predict the neighbor words (*w(t-2), w(t-1), w(t+1), w(t+2)*) given a *w(t)* word during training process. [Read More](https://jalammar.github.io/illustrated-word2vec/)<br />\n",
        "> Let's load the model and see how powerful it is."
      ]
    },
    {
      "cell_type": "markdown",
      "metadata": {
        "id": "e8bukQVUxu3F"
      },
      "source": [
        "### Load the pre-trained model"
      ]
    },
    {
      "cell_type": "code",
      "metadata": {
        "colab": {
          "base_uri": "https://localhost:8080/"
        },
        "id": "tw2yWxEudZVl",
        "outputId": "b2bbac30-afa5-4e12-e84e-857e43507d2f"
      },
      "source": [
        "!wget -P /content/sample_data/ -c \"https://s3.amazonaws.com/dl4j-distribution/GoogleNews-vectors-negative300.bin.gz\""
      ],
      "execution_count": null,
      "outputs": [
        {
          "output_type": "stream",
          "text": [
            "--2021-07-15 19:34:23--  https://s3.amazonaws.com/dl4j-distribution/GoogleNews-vectors-negative300.bin.gz\n",
            "Resolving s3.amazonaws.com (s3.amazonaws.com)... 52.217.43.6\n",
            "Connecting to s3.amazonaws.com (s3.amazonaws.com)|52.217.43.6|:443... connected.\n",
            "HTTP request sent, awaiting response... 200 OK\n",
            "Length: 1647046227 (1.5G) [application/x-gzip]\n",
            "Saving to: ‘/content/sample_data/GoogleNews-vectors-negative300.bin.gz’\n",
            "\n",
            "GoogleNews-vectors- 100%[===================>]   1.53G  46.1MB/s    in 48s     \n",
            "\n",
            "2021-07-15 19:35:11 (32.7 MB/s) - ‘/content/sample_data/GoogleNews-vectors-negative300.bin.gz’ saved [1647046227/1647046227]\n",
            "\n"
          ],
          "name": "stdout"
        }
      ]
    },
    {
      "cell_type": "code",
      "metadata": {
        "id": "OCL98QuydZQo"
      },
      "source": [
        "from gensim.models import KeyedVectors\n",
        "\n",
        "pretrained_model = '/content/sample_data/GoogleNews-vectors-negative300.bin.gz'\n",
        "word_vectors = KeyedVectors.load_word2vec_format(pretrained_model, binary=True)"
      ],
      "execution_count": null,
      "outputs": []
    },
    {
      "cell_type": "code",
      "metadata": {
        "colab": {
          "base_uri": "https://localhost:8080/"
        },
        "id": "CkYHDKtefs5j",
        "outputId": "b285d4c5-a153-4f05-df3b-53b17e7aac40"
      },
      "source": [
        "word_vectors['beautiful']"
      ],
      "execution_count": null,
      "outputs": [
        {
          "output_type": "execute_result",
          "data": {
            "text/plain": [
              "array([-0.01831055,  0.05566406, -0.01153564,  0.07275391,  0.15136719,\n",
              "       -0.06176758,  0.20605469, -0.15332031, -0.05908203,  0.22851562,\n",
              "       -0.06445312, -0.22851562, -0.09472656, -0.03344727,  0.24707031,\n",
              "        0.05541992, -0.00921631,  0.1328125 , -0.15429688,  0.08105469,\n",
              "       -0.07373047,  0.24316406,  0.12353516, -0.09277344,  0.08203125,\n",
              "        0.06494141,  0.15722656,  0.11279297, -0.0612793 , -0.296875  ,\n",
              "       -0.13378906,  0.234375  ,  0.09765625,  0.17773438,  0.06689453,\n",
              "       -0.27539062,  0.06445312, -0.13867188, -0.08886719,  0.171875  ,\n",
              "        0.07861328, -0.10058594,  0.23925781,  0.03808594,  0.18652344,\n",
              "       -0.11279297,  0.22558594,  0.10986328, -0.11865234,  0.02026367,\n",
              "        0.11376953,  0.09570312,  0.29492188,  0.08251953, -0.05444336,\n",
              "       -0.0090332 , -0.0625    , -0.17578125, -0.08154297,  0.01062012,\n",
              "       -0.04736328, -0.08544922, -0.19042969, -0.30273438,  0.07617188,\n",
              "        0.125     , -0.05932617,  0.03833008, -0.03564453,  0.2421875 ,\n",
              "        0.36132812,  0.04760742,  0.00631714, -0.03088379, -0.13964844,\n",
              "        0.22558594, -0.06298828, -0.02636719,  0.1171875 ,  0.33398438,\n",
              "       -0.07666016, -0.06689453,  0.04150391, -0.15136719, -0.22460938,\n",
              "        0.03320312, -0.15332031,  0.07128906,  0.16992188,  0.11572266,\n",
              "       -0.13085938,  0.12451172, -0.20410156,  0.04736328, -0.296875  ,\n",
              "       -0.17480469,  0.00872803, -0.04638672,  0.10791016, -0.203125  ,\n",
              "       -0.27539062,  0.2734375 ,  0.02563477, -0.11035156,  0.0625    ,\n",
              "        0.1953125 ,  0.16015625, -0.13769531, -0.09863281, -0.1953125 ,\n",
              "       -0.22851562,  0.25390625,  0.00915527, -0.03857422,  0.3984375 ,\n",
              "       -0.1796875 ,  0.03833008, -0.24804688,  0.03515625,  0.03881836,\n",
              "        0.03442383, -0.04101562,  0.20214844, -0.03015137, -0.09619141,\n",
              "        0.11669922, -0.06738281,  0.0625    ,  0.10742188,  0.25585938,\n",
              "       -0.21777344,  0.05639648, -0.0065918 ,  0.16113281,  0.11865234,\n",
              "       -0.03088379, -0.11572266,  0.02685547,  0.03100586,  0.09863281,\n",
              "        0.05883789,  0.00634766,  0.11914062,  0.07324219, -0.01586914,\n",
              "        0.18457031,  0.05322266,  0.19824219, -0.22363281, -0.25195312,\n",
              "        0.15039062,  0.22753906,  0.05737305,  0.16992188, -0.22558594,\n",
              "        0.06494141,  0.11914062, -0.06640625, -0.10449219, -0.07226562,\n",
              "       -0.16992188,  0.0625    ,  0.14648438,  0.27148438, -0.02172852,\n",
              "       -0.12695312,  0.18457031, -0.27539062, -0.36523438, -0.03491211,\n",
              "       -0.18554688,  0.23828125, -0.13867188,  0.00296021,  0.04272461,\n",
              "        0.13867188,  0.12207031,  0.05957031, -0.22167969, -0.18945312,\n",
              "       -0.23242188, -0.28710938, -0.00866699, -0.16113281, -0.24316406,\n",
              "        0.05712891, -0.06982422,  0.00053406, -0.10302734, -0.13378906,\n",
              "       -0.16113281,  0.11621094,  0.31640625, -0.02697754, -0.01574707,\n",
              "        0.11425781, -0.04174805,  0.05908203,  0.02661133, -0.08642578,\n",
              "        0.140625  ,  0.09228516, -0.25195312, -0.31445312, -0.05688477,\n",
              "        0.01031494,  0.0234375 , -0.02331543, -0.08056641,  0.01269531,\n",
              "       -0.34179688,  0.17285156, -0.16015625,  0.07763672, -0.03088379,\n",
              "        0.11962891,  0.11767578,  0.20117188, -0.01940918,  0.02172852,\n",
              "        0.23046875,  0.28125   , -0.17675781,  0.02978516,  0.08740234,\n",
              "       -0.06176758,  0.00939941, -0.09277344, -0.203125  ,  0.13085938,\n",
              "       -0.13671875, -0.00500488, -0.04296875,  0.12988281,  0.3515625 ,\n",
              "        0.0402832 , -0.12988281, -0.03173828,  0.28515625,  0.18261719,\n",
              "        0.13867188, -0.16503906, -0.26171875, -0.04345703,  0.0100708 ,\n",
              "        0.08740234,  0.00421143, -0.1328125 , -0.17578125, -0.04321289,\n",
              "       -0.015625  ,  0.16894531,  0.25      ,  0.37109375,  0.19921875,\n",
              "       -0.36132812, -0.10302734, -0.20800781, -0.20117188, -0.01519775,\n",
              "       -0.12207031, -0.12011719, -0.07421875, -0.04345703,  0.14160156,\n",
              "        0.15527344, -0.03027344, -0.09326172, -0.04589844,  0.16796875,\n",
              "       -0.03027344,  0.09179688, -0.10058594,  0.20703125,  0.11376953,\n",
              "       -0.12402344,  0.04003906,  0.06933594, -0.34570312,  0.03881836,\n",
              "        0.16210938,  0.05761719, -0.12792969, -0.05810547,  0.03857422,\n",
              "       -0.11328125, -0.1953125 , -0.28125   , -0.13183594,  0.15722656,\n",
              "       -0.09765625,  0.09619141, -0.09960938, -0.00285339, -0.03637695,\n",
              "        0.15429688,  0.06152344, -0.34570312,  0.11083984,  0.03344727],\n",
              "      dtype=float32)"
            ]
          },
          "metadata": {
            "tags": []
          },
          "execution_count": 7
        }
      ]
    },
    {
      "cell_type": "code",
      "metadata": {
        "id": "q9frzz6ve3pI",
        "colab": {
          "base_uri": "https://localhost:8080/"
        },
        "outputId": "d2f0649c-6157-4274-9ceb-f156c19fdd44"
      },
      "source": [
        "word_vectors.most_similar(\"beautiful\", topn=10)"
      ],
      "execution_count": null,
      "outputs": [
        {
          "output_type": "execute_result",
          "data": {
            "text/plain": [
              "[('gorgeous', 0.8353004455566406),\n",
              " ('lovely', 0.810693621635437),\n",
              " ('stunningly_beautiful', 0.7329413890838623),\n",
              " ('breathtakingly_beautiful', 0.7231341004371643),\n",
              " ('wonderful', 0.6854087114334106),\n",
              " ('fabulous', 0.6700063943862915),\n",
              " ('loveliest', 0.6612576246261597),\n",
              " ('prettiest', 0.6595001816749573),\n",
              " ('beatiful', 0.6593326330184937),\n",
              " ('magnificent', 0.6591402292251587)]"
            ]
          },
          "metadata": {
            "tags": []
          },
          "execution_count": 3
        }
      ]
    },
    {
      "cell_type": "markdown",
      "metadata": {
        "id": "VnMxmmLfriKQ"
      },
      "source": [
        "> vector['woman'] + vector['king'] - vecotr['man'] = ?\n"
      ]
    },
    {
      "cell_type": "code",
      "metadata": {
        "colab": {
          "base_uri": "https://localhost:8080/"
        },
        "id": "NHiS1D6tdZML",
        "outputId": "59a3b3ea-a69f-4cf4-87ee-8f10ea9d1705"
      },
      "source": [
        "word_vectors.most_similar(positive=['woman', 'king'], negative=['man'], topn=1)"
      ],
      "execution_count": null,
      "outputs": [
        {
          "output_type": "execute_result",
          "data": {
            "text/plain": [
              "[('queen', 0.7118192911148071)]"
            ]
          },
          "metadata": {
            "tags": []
          },
          "execution_count": 12
        }
      ]
    },
    {
      "cell_type": "code",
      "metadata": {
        "colab": {
          "base_uri": "https://localhost:8080/"
        },
        "id": "XsIE5mM6dY6a",
        "outputId": "4132eb02-4e7a-4177-b06a-6a07c3fb468f"
      },
      "source": [
        "word_vectors.most_similar(positive=['small', 'smaller'], negative=['large'], topn=1)"
      ],
      "execution_count": null,
      "outputs": [
        {
          "output_type": "execute_result",
          "data": {
            "text/plain": [
              "[('larger', 0.595083475112915)]"
            ]
          },
          "metadata": {
            "tags": []
          },
          "execution_count": 26
        }
      ]
    },
    {
      "cell_type": "code",
      "metadata": {
        "colab": {
          "base_uri": "https://localhost:8080/",
          "height": 89
        },
        "id": "PDpwDrLoGicD",
        "outputId": "b421d87e-3dc1-4eab-b34d-f26971a402c9"
      },
      "source": [
        "word_vectors.doesnt_match(\"banana apple orange sausage\".split())"
      ],
      "execution_count": null,
      "outputs": [
        {
          "output_type": "stream",
          "text": [
            "/usr/local/lib/python3.7/dist-packages/gensim/models/keyedvectors.py:895: FutureWarning: arrays to stack must be passed as a \"sequence\" type such as list or tuple. Support for non-sequence iterables such as generators is deprecated as of NumPy 1.16 and will raise an error in the future.\n",
            "  vectors = vstack(self.word_vec(word, use_norm=True) for word in used_words).astype(REAL)\n"
          ],
          "name": "stderr"
        },
        {
          "output_type": "execute_result",
          "data": {
            "application/vnd.google.colaboratory.intrinsic+json": {
              "type": "string"
            },
            "text/plain": [
              "'sausage'"
            ]
          },
          "metadata": {
            "tags": []
          },
          "execution_count": 5
        }
      ]
    },
    {
      "cell_type": "code",
      "metadata": {
        "colab": {
          "base_uri": "https://localhost:8080/",
          "height": 89
        },
        "id": "MI3jkApwGqAF",
        "outputId": "627f434e-1038-4e3a-82a2-684ebcfed022"
      },
      "source": [
        "word_vectors.doesnt_match(\"vanilla chocolate cinnamon dish\".split())"
      ],
      "execution_count": null,
      "outputs": [
        {
          "output_type": "stream",
          "text": [
            "/usr/local/lib/python3.7/dist-packages/gensim/models/keyedvectors.py:895: FutureWarning: arrays to stack must be passed as a \"sequence\" type such as list or tuple. Support for non-sequence iterables such as generators is deprecated as of NumPy 1.16 and will raise an error in the future.\n",
            "  vectors = vstack(self.word_vec(word, use_norm=True) for word in used_words).astype(REAL)\n"
          ],
          "name": "stderr"
        },
        {
          "output_type": "execute_result",
          "data": {
            "application/vnd.google.colaboratory.intrinsic+json": {
              "type": "string"
            },
            "text/plain": [
              "'dish'"
            ]
          },
          "metadata": {
            "tags": []
          },
          "execution_count": 7
        }
      ]
    },
    {
      "cell_type": "markdown",
      "metadata": {
        "id": "ug6r8mtaIBtb"
      },
      "source": [
        "### Train our own Word2Vec Model"
      ]
    },
    {
      "cell_type": "markdown",
      "metadata": {
        "id": "XUpjXJDk-ys_"
      },
      "source": [
        "\n",
        "\n",
        "> What if we have a lot of Out Of Vocabulary (OOV) words in our dataset? We can train our own Word2Vec model! It will not be as powerful as the pre-trained one, but it might be better suited for our application.<br />\n",
        "Start with downloading and loading the IMDB 50K Movie reviews dataset [2].\n",
        "\n"
      ]
    },
    {
      "cell_type": "code",
      "metadata": {
        "colab": {
          "base_uri": "https://localhost:8080/"
        },
        "id": "rPezvrQw5oO9",
        "outputId": "f27246f8-b1d7-4f2d-b9e2-3ec0f4f983be"
      },
      "source": [
        "!wget -P /content/sample_data/ -c \"https://ai.stanford.edu/~amaas/data/sentiment/aclImdb_v1.tar.gz\"\n",
        "!tar -xzf /content/sample_data/aclImdb_v1.tar.gz"
      ],
      "execution_count": null,
      "outputs": [
        {
          "output_type": "stream",
          "text": [
            "--2021-07-12 00:23:54--  https://ai.stanford.edu/~amaas/data/sentiment/aclImdb_v1.tar.gz\n",
            "Resolving ai.stanford.edu (ai.stanford.edu)... 171.64.68.10\n",
            "Connecting to ai.stanford.edu (ai.stanford.edu)|171.64.68.10|:443... connected.\n",
            "HTTP request sent, awaiting response... 200 OK\n",
            "Length: 84125825 (80M) [application/x-gzip]\n",
            "Saving to: ‘/content/sample_data/aclImdb_v1.tar.gz’\n",
            "\n",
            "aclImdb_v1.tar.gz   100%[===================>]  80.23M  29.2MB/s    in 2.7s    \n",
            "\n",
            "2021-07-12 00:23:57 (29.2 MB/s) - ‘/content/sample_data/aclImdb_v1.tar.gz’ saved [84125825/84125825]\n",
            "\n"
          ],
          "name": "stdout"
        }
      ]
    },
    {
      "cell_type": "markdown",
      "metadata": {
        "id": "ZZjjn-WT6Gkf"
      },
      "source": [
        "\n",
        "\n",
        "> Our database consists of 50K individual text files that holds each review. We need to write a function to read all the single reviews into a list to use them more easily.\n",
        "\n",
        "\n"
      ]
    },
    {
      "cell_type": "code",
      "metadata": {
        "id": "SUtm8dorYfBh"
      },
      "source": [
        "from os import listdir \n",
        "from tqdm.notebook import tqdm\n",
        "import gensim\n",
        "\n",
        "def path_to_list(path, preprocess=True):\n",
        "\n",
        "  print( \"Reading the '{}' Directory files:\".format(path) )\n",
        "  files_names_list = listdir( path )\n",
        "  dataset = []\n",
        "  \n",
        "  for file_name in tqdm( files_names_list ):\n",
        "\n",
        "    with open( path + file_name ) as f:\n",
        "      if preprocess:\n",
        "        dataset.append( gensim.utils.simple_preprocess ( f.readlines()[0] ) )\n",
        "      else:\n",
        "        dataset.append( f.readlines()[0] )\n",
        "  \n",
        "  return dataset"
      ],
      "execution_count": null,
      "outputs": []
    },
    {
      "cell_type": "code",
      "metadata": {
        "colab": {
          "base_uri": "https://localhost:8080/",
          "height": 251,
          "referenced_widgets": [
            "9321ac32445446b0a8659e727d2cdc01",
            "d0a7abc1f7db40e4a87244ce302612d8",
            "d008b15411bb4482bf9b3258ada01406",
            "952ced195f0040cdbc6ccdb88070ea17",
            "59c4719acf9c4cde8119cc1fb36add09",
            "43b74464fe3f4c95b6ed931b92343898",
            "c0b8cac04708431db5609b124f771aee",
            "e9309b5357cc4112bdc1270dc8606fb9",
            "31b17ceaf32f4b058514d922b4f35ae9",
            "d79f6e2d4c494dc59e4f94c23d0a6eb8",
            "979ed57b818a4572b44443862036801d",
            "b81b90a4a5d049fabc0cb55429c027b2",
            "e13b341b911f4ab7a086b6478e37aa64",
            "1c8f02b1a3b24da6a4cb089a12dbafe1",
            "89e23c88ad484501ad40bf486b3aed03",
            "1a773538759c46728b05eec7cd93acca"
          ]
        },
        "id": "_6lDKB46DhwO",
        "outputId": "d7221c3e-5a39-441f-8524-b78e9daae4ac"
      },
      "source": [
        "preprocessing = True\n",
        "files_path    = \"./aclImdb/train/{}/\"\n",
        "\n",
        "# For Negative Reviews\n",
        "fp = files_path.format('neg')\n",
        "negative_dataset = path_to_list( fp, preprocessing )\n",
        "\n",
        "# For Positive Reviews\n",
        "fp = files_path.format('pos')\n",
        "positive_dataset = path_to_list( fp, preprocessing )\n",
        "\n",
        "# Put both together\n",
        "dataset = negative_dataset + positive_dataset\n",
        "\n",
        "print(\n",
        "\"\"\"\n",
        "Number of positive samples: {}\n",
        "Number of Negative samples: {}\n",
        "Total Dataset Size        : {}\n",
        "\"\"\".format(len(negative_dataset), len(positive_dataset), len(dataset))\n",
        ")"
      ],
      "execution_count": null,
      "outputs": [
        {
          "output_type": "stream",
          "text": [
            "Reading the './aclImdb/train/neg/' Directory files:\n"
          ],
          "name": "stdout"
        },
        {
          "output_type": "display_data",
          "data": {
            "application/vnd.jupyter.widget-view+json": {
              "model_id": "9321ac32445446b0a8659e727d2cdc01",
              "version_minor": 0,
              "version_major": 2
            },
            "text/plain": [
              "HBox(children=(FloatProgress(value=0.0, max=12500.0), HTML(value='')))"
            ]
          },
          "metadata": {
            "tags": []
          }
        },
        {
          "output_type": "stream",
          "text": [
            "\n",
            "\n",
            "Reading the './aclImdb/train/pos/' Directory files:\n"
          ],
          "name": "stdout"
        },
        {
          "output_type": "display_data",
          "data": {
            "application/vnd.jupyter.widget-view+json": {
              "model_id": "31b17ceaf32f4b058514d922b4f35ae9",
              "version_minor": 0,
              "version_major": 2
            },
            "text/plain": [
              "HBox(children=(FloatProgress(value=0.0, max=12500.0), HTML(value='')))"
            ]
          },
          "metadata": {
            "tags": []
          }
        },
        {
          "output_type": "stream",
          "text": [
            "\n",
            "\n",
            "Number of positive samples: 12500\n",
            "Number of Negative samples: 12500\n",
            "Total Dataset Size        : 25000\n",
            "\n"
          ],
          "name": "stdout"
        }
      ]
    },
    {
      "cell_type": "markdown",
      "metadata": {
        "id": "FV3R99pP9cmd"
      },
      "source": [
        "\n",
        "\n",
        "> Now, we can train a Word2Vec model just for the IMDB dataset.\n",
        "\n"
      ]
    },
    {
      "cell_type": "code",
      "metadata": {
        "colab": {
          "base_uri": "https://localhost:8080/"
        },
        "id": "gQmTq2dc9Z8v",
        "outputId": "79e70fc2-f9a8-4c20-b650-6757c423e3f6"
      },
      "source": [
        "model = gensim.models.Word2Vec(dataset, size=150, window=10, min_count=2, workers=10)\n",
        "model.train(dataset, total_examples=len(dataset), epochs=10)"
      ],
      "execution_count": null,
      "outputs": [
        {
          "output_type": "execute_result",
          "data": {
            "text/plain": [
              "(42891268, 56531940)"
            ]
          },
          "metadata": {
            "tags": []
          },
          "execution_count": 16
        }
      ]
    },
    {
      "cell_type": "markdown",
      "metadata": {
        "id": "r0RVMzXnCiZ7"
      },
      "source": [
        "> [Documentation](https://radimrehurek.com/gensim_3.8.3/models/word2vec.html#gensim.models.word2vec.Word2Vec.trainables) <br /><br />\n",
        "> Now, we can save/load the model for future use."
      ]
    },
    {
      "cell_type": "code",
      "metadata": {
        "id": "tQudMZr4EwCP"
      },
      "source": [
        "model.save(\"./imdb-word2vec.model\")"
      ],
      "execution_count": null,
      "outputs": []
    },
    {
      "cell_type": "code",
      "metadata": {
        "id": "OtfKMKMxE_8m"
      },
      "source": [
        "model = gensim.models.Word2Vec.load(\"imdb-word2vec.model\")"
      ],
      "execution_count": null,
      "outputs": []
    },
    {
      "cell_type": "code",
      "metadata": {
        "colab": {
          "base_uri": "https://localhost:8080/"
        },
        "id": "eOivSJt4AquH",
        "outputId": "c56ef232-7781-4c39-f60a-56c02fbd2c00"
      },
      "source": [
        "model.wv.most_similar(\"beatiful\")"
      ],
      "execution_count": null,
      "outputs": [
        {
          "output_type": "execute_result",
          "data": {
            "text/plain": [
              "[('bride', 0.4520919919013977),\n",
              " ('artie', 0.3967897593975067),\n",
              " ('ghillie', 0.39270034432411194),\n",
              " ('hostess', 0.38479578495025635),\n",
              " ('brant', 0.3816797733306885),\n",
              " ('lover', 0.3797268569469452),\n",
              " ('premier', 0.3785325586795807),\n",
              " ('counterpart', 0.37571626901626587),\n",
              " ('wedding', 0.37087419629096985),\n",
              " ('bffs', 0.36623677611351013)]"
            ]
          },
          "metadata": {
            "tags": []
          },
          "execution_count": 37
        }
      ]
    },
    {
      "cell_type": "markdown",
      "metadata": {
        "id": "DR7u5XhYG5LT"
      },
      "source": [
        "> Very powerful representation with low resources requirement! It can work great with classical machine learning algorithms like Random Forest to make small classifier models based on your needs. [example](https://www.kaggle.com/arunava21/word2vec-and-random-forest-classification) <br /> <br />\n",
        "> Large neural network models are not always the answer!"
      ]
    },
    {
      "cell_type": "markdown",
      "metadata": {
        "id": "xKVmfGtsSgUW"
      },
      "source": [
        "### Use in PyTorch model"
      ]
    },
    {
      "cell_type": "markdown",
      "metadata": {
        "id": "87nXjUCdVrg1"
      },
      "source": [
        "> Make a function to convert tokens to IDs with respect to Word2Vec vocabulary."
      ]
    },
    {
      "cell_type": "code",
      "metadata": {
        "colab": {
          "base_uri": "https://localhost:8080/"
        },
        "id": "1lR7sTb8TyUT",
        "outputId": "c0c03959-aa90-42f4-e4a6-d81e10d5f158"
      },
      "source": [
        "max_sen_len = 10\n",
        "\n",
        "padding_idx = word_vectors.vocab['pad'].index\n",
        "print(\"Padding ID:\", padding_idx)\n",
        "\n",
        "def work_to_id(sentence, max_len):\n",
        "    padded_X = [padding_idx for i in range(max_len)]\n",
        "    i = 0\n",
        "    for word in sentence:\n",
        "        if word not in word_vectors.vocab:\n",
        "            padded_X[i] = 0\n",
        "        else:\n",
        "            padded_X[i] = word_vectors.vocab[word].index\n",
        "        i += 1\n",
        "    return torch.tensor(padded_X, dtype=torch.long, device='cpu').view(1, -1)"
      ],
      "execution_count": null,
      "outputs": [
        {
          "output_type": "stream",
          "text": [
            "Padding ID: 11380\n"
          ],
          "name": "stdout"
        }
      ]
    },
    {
      "cell_type": "code",
      "metadata": {
        "colab": {
          "base_uri": "https://localhost:8080/"
        },
        "id": "Wc_hy0uIUlso",
        "outputId": "99489043-8d41-4bbf-f344-7033875b530d"
      },
      "source": [
        "work_to_id([\"it\", \"is\", \"a\", \"sample\", \"sentence\"], max_sen_len)"
      ],
      "execution_count": null,
      "outputs": [
        {
          "output_type": "execute_result",
          "data": {
            "text/plain": [
              "tensor([[   15,     4,     0,  5291,  2303, 11380, 11380, 11380, 11380, 11380]])"
            ]
          },
          "metadata": {
            "tags": []
          },
          "execution_count": 27
        }
      ]
    },
    {
      "cell_type": "markdown",
      "metadata": {
        "id": "eaaCLJB_VlGW"
      },
      "source": [
        "> Use Embedding layer and load its weights from Word2Vec."
      ]
    },
    {
      "cell_type": "code",
      "metadata": {
        "id": "m05FQDUQTMYr"
      },
      "source": [
        "embedding = nn.Embedding.from_pretrained(torch.FloatTensor(word_vectors.vectors),\n",
        "                                         padding_idx=word_vectors.vocab['pad'].index)"
      ],
      "execution_count": null,
      "outputs": []
    },
    {
      "cell_type": "markdown",
      "metadata": {
        "id": "pjsoMWM-IrKc"
      },
      "source": [
        "# Language Models + Classification"
      ]
    },
    {
      "cell_type": "markdown",
      "metadata": {
        "id": "PACU24_5IxSF"
      },
      "source": [
        "> Word2Vec was the first example of using transfer learning in Natural Language Processing. And a very powerful one as well! But, the problem is, it always generates the same vector for a word, no matter what the context is. The context matters in NLP! Alot!\n"
      ]
    },
    {
      "cell_type": "markdown",
      "metadata": {
        "id": "lgEMJGxMOYs6"
      },
      "source": [
        "<center> <img src=\"https://raw.githubusercontent.com/AlaFalaki/workshop-materials/main/2021-practical-deep-learning/materials/iamahugemetalfan.jpeg\" width=\"500\" />\n",
        "\n",
        "<small>Credit: not found.</small>\n",
        " </center>"
      ]
    },
    {
      "cell_type": "markdown",
      "metadata": {
        "id": "FFSsEedl4dFM"
      },
      "source": [
        "> Here comes the language models. We feed them a text, they try to predict the next word!\n",
        "\n",
        "<center> <img width=\"500\" src=\"https://raw.githubusercontent.com/AlaFalaki/workshop-materials/main/2021-practical-deep-learning/materials/lm.png\" /> <center>"
      ]
    },
    {
      "cell_type": "markdown",
      "metadata": {
        "id": "_MevZucrAy9g"
      },
      "source": [
        "> As it turned out, they learn about language structure through this process. Let's see how they work, we start by importing the [FastAI](https://github.com/fastai/fastai) library, and load the Yelp dataset."
      ]
    },
    {
      "cell_type": "code",
      "metadata": {
        "id": "3oN75flV0y8L"
      },
      "source": [
        "from fastai.text.all import *"
      ],
      "execution_count": null,
      "outputs": []
    },
    {
      "cell_type": "markdown",
      "metadata": {
        "id": "3U1fS_STz9bi"
      },
      "source": [
        "## Load the LM Dataset"
      ]
    },
    {
      "cell_type": "code",
      "metadata": {
        "colab": {
          "base_uri": "https://localhost:8080/",
          "height": 34
        },
        "id": "lWk1H5PusT_M",
        "outputId": "24da93f5-cd1d-441d-dbe3-756e36672d0d"
      },
      "source": [
        "path = untar_data(URLs.YELP_REVIEWS_POLARITY, dest=\"/content\")\n",
        "path"
      ],
      "execution_count": null,
      "outputs": [
        {
          "output_type": "display_data",
          "data": {
            "text/html": [
              ""
            ],
            "text/plain": [
              "<IPython.core.display.HTML object>"
            ]
          },
          "metadata": {
            "tags": []
          }
        },
        {
          "output_type": "execute_result",
          "data": {
            "text/plain": [
              "Path('/content/yelp_review_polarity_csv')"
            ]
          },
          "metadata": {
            "tags": []
          },
          "execution_count": 2
        }
      ]
    },
    {
      "cell_type": "code",
      "metadata": {
        "colab": {
          "base_uri": "https://localhost:8080/",
          "height": 476
        },
        "id": "dqBgNybOuBuz",
        "outputId": "a25f31b7-c67a-4fc6-eefa-14b4ddc4593c"
      },
      "source": [
        "df = pd.read_csv(path/\"train.csv\", header=0, names=['label', 'text'])\n",
        "df = df[0:len( df )//2]\n",
        "df.head()"
      ],
      "execution_count": null,
      "outputs": [
        {
          "output_type": "execute_result",
          "data": {
            "text/html": [
              "<div>\n",
              "<style scoped>\n",
              "    .dataframe tbody tr th:only-of-type {\n",
              "        vertical-align: middle;\n",
              "    }\n",
              "\n",
              "    .dataframe tbody tr th {\n",
              "        vertical-align: top;\n",
              "    }\n",
              "\n",
              "    .dataframe thead th {\n",
              "        text-align: right;\n",
              "    }\n",
              "</style>\n",
              "<table border=\"1\" class=\"dataframe\">\n",
              "  <thead>\n",
              "    <tr style=\"text-align: right;\">\n",
              "      <th></th>\n",
              "      <th>label</th>\n",
              "      <th>text</th>\n",
              "    </tr>\n",
              "  </thead>\n",
              "  <tbody>\n",
              "    <tr>\n",
              "      <th>0</th>\n",
              "      <td>2</td>\n",
              "      <td>Been going to Dr. Goldberg for over 10 years. I think I was one of his 1st patients when he started at MHMG. He's been great over the years and is really all about the big picture. It is because of him, not my now former gyn Dr. Markoff, that I found out I have fibroids. He explores all options with you and is very patient and understanding. He doesn't judge and asks all the right questions. Very thorough and wants to be kept in the loop on every aspect of your medical health and your life.</td>\n",
              "    </tr>\n",
              "    <tr>\n",
              "      <th>1</th>\n",
              "      <td>1</td>\n",
              "      <td>I don't know what Dr. Goldberg was like before  moving to Arizona, but let me tell you, STAY AWAY from this doctor and this office. I was going to Dr. Johnson before he left and Goldberg took over when Johnson left. He is not a caring doctor. He is only interested in the co-pay and having you come in for medication refills every month. He will not give refills and could less about patients's financial situations. Trying to get your 90 days mail away pharmacy prescriptions through this guy is a joke. And to make matters even worse, his office staff is incompetent. 90% of the time when you c...</td>\n",
              "    </tr>\n",
              "    <tr>\n",
              "      <th>2</th>\n",
              "      <td>1</td>\n",
              "      <td>I'm writing this review to give you a heads up before you see this Doctor. The office staff and administration are very unprofessional. I left a message with multiple people regarding my bill, and no one ever called me back. I had to hound them to get an answer about my bill. \\n\\nSecond, and most important, make sure your insurance is going to cover Dr. Goldberg's visits and blood work. He recommended to me that I get a physical, and he knew I was a student because I told him. I got the physical done. Later, I found out my health insurance doesn't pay for preventative visits. I received an...</td>\n",
              "    </tr>\n",
              "    <tr>\n",
              "      <th>3</th>\n",
              "      <td>2</td>\n",
              "      <td>All the food is great here. But the best thing they have is their wings. Their wings are simply fantastic!!  The \\\"Wet Cajun\\\" are by the best &amp; most popular.  I also like the seasoned salt wings.  Wing Night is Monday &amp; Wednesday night, $0.75 whole wings!\\n\\nThe dining area is nice. Very family friendly! The bar is very nice is well.  This place is truly a Yinzer's dream!!  \\\"Pittsburgh Dad\\\" would love this place n'at!!</td>\n",
              "    </tr>\n",
              "    <tr>\n",
              "      <th>4</th>\n",
              "      <td>1</td>\n",
              "      <td>Wing sauce is like water. Pretty much a lot of butter and some hot sauce (franks red hot maybe).  The whole wings are good size and crispy, but for $1 a wing the sauce could be better. The hot and extra hot are about the same flavor/heat.  The fish sandwich is good and is a large portion, sides are decent.</td>\n",
              "    </tr>\n",
              "  </tbody>\n",
              "</table>\n",
              "</div>"
            ],
            "text/plain": [
              "   label                                                                                                                                                                                                                                                                                                                                                                                                                                                                                                                                                                                                                     text\n",
              "0      2                                                                                                          Been going to Dr. Goldberg for over 10 years. I think I was one of his 1st patients when he started at MHMG. He's been great over the years and is really all about the big picture. It is because of him, not my now former gyn Dr. Markoff, that I found out I have fibroids. He explores all options with you and is very patient and understanding. He doesn't judge and asks all the right questions. Very thorough and wants to be kept in the loop on every aspect of your medical health and your life.\n",
              "1      1  I don't know what Dr. Goldberg was like before  moving to Arizona, but let me tell you, STAY AWAY from this doctor and this office. I was going to Dr. Johnson before he left and Goldberg took over when Johnson left. He is not a caring doctor. He is only interested in the co-pay and having you come in for medication refills every month. He will not give refills and could less about patients's financial situations. Trying to get your 90 days mail away pharmacy prescriptions through this guy is a joke. And to make matters even worse, his office staff is incompetent. 90% of the time when you c...\n",
              "2      1  I'm writing this review to give you a heads up before you see this Doctor. The office staff and administration are very unprofessional. I left a message with multiple people regarding my bill, and no one ever called me back. I had to hound them to get an answer about my bill. \\n\\nSecond, and most important, make sure your insurance is going to cover Dr. Goldberg's visits and blood work. He recommended to me that I get a physical, and he knew I was a student because I told him. I got the physical done. Later, I found out my health insurance doesn't pay for preventative visits. I received an...\n",
              "3      2                                                                                                                                                                                All the food is great here. But the best thing they have is their wings. Their wings are simply fantastic!!  The \\\"Wet Cajun\\\" are by the best & most popular.  I also like the seasoned salt wings.  Wing Night is Monday & Wednesday night, $0.75 whole wings!\\n\\nThe dining area is nice. Very family friendly! The bar is very nice is well.  This place is truly a Yinzer's dream!!  \\\"Pittsburgh Dad\\\" would love this place n'at!!\n",
              "4      1                                                                                                                                                                                                                                                                                                      Wing sauce is like water. Pretty much a lot of butter and some hot sauce (franks red hot maybe).  The whole wings are good size and crispy, but for $1 a wing the sauce could be better. The hot and extra hot are about the same flavor/heat.  The fish sandwich is good and is a large portion, sides are decent."
            ]
          },
          "metadata": {
            "tags": []
          },
          "execution_count": 3
        }
      ]
    },
    {
      "cell_type": "code",
      "metadata": {
        "colab": {
          "base_uri": "https://localhost:8080/",
          "height": 335
        },
        "id": "i-3mOdNMuY4b",
        "outputId": "93872a31-7814-4663-c53b-0bc51aecb264"
      },
      "source": [
        "dls = TextDataLoaders.from_df(df, text_col='text', label_col='label', is_lm=True)\n",
        "dls.show_batch(max_n=2)"
      ],
      "execution_count": null,
      "outputs": [
        {
          "output_type": "display_data",
          "data": {
            "text/html": [
              ""
            ],
            "text/plain": [
              "<IPython.core.display.HTML object>"
            ]
          },
          "metadata": {
            "tags": []
          }
        },
        {
          "output_type": "stream",
          "text": [
            "/usr/local/lib/python3.7/dist-packages/numpy/core/_asarray.py:83: VisibleDeprecationWarning: Creating an ndarray from ragged nested sequences (which is a list-or-tuple of lists-or-tuples-or ndarrays with different lengths or shapes) is deprecated. If you meant to do this, you must specify 'dtype=object' when creating the ndarray\n",
            "  return array(a, dtype, copy=False, order=order)\n"
          ],
          "name": "stderr"
        },
        {
          "output_type": "display_data",
          "data": {
            "text/html": [
              "<table border=\"1\" class=\"dataframe\">\n",
              "  <thead>\n",
              "    <tr style=\"text-align: right;\">\n",
              "      <th></th>\n",
              "      <th>text</th>\n",
              "      <th>text_</th>\n",
              "    </tr>\n",
              "  </thead>\n",
              "  <tbody>\n",
              "    <tr>\n",
              "      <th>0</th>\n",
              "      <td>xxbos xxmaj truly home cooking style xxmaj mexican food served by a friendly staff with the owners doing the cooking . xxmaj the xxmaj chile xxmaj rellenos are excellent , and my wife says the xxmaj enchiladas are the first she 's had in a restaurant that come close to her grand mother 's xxmaj new xxmaj mexico style xxmaj xxunk … xxmaj very reasonably priced and there is usually several sports</td>\n",
              "      <td>xxmaj truly home cooking style xxmaj mexican food served by a friendly staff with the owners doing the cooking . xxmaj the xxmaj chile xxmaj rellenos are excellent , and my wife says the xxmaj enchiladas are the first she 's had in a restaurant that come close to her grand mother 's xxmaj new xxmaj mexico style xxmaj xxunk … xxmaj very reasonably priced and there is usually several sports events</td>\n",
              "    </tr>\n",
              "    <tr>\n",
              "      <th>1</th>\n",
              "      <td>xxmaj my lasagna tasted xxup ok but the whole thing was crispy on the outside like it had been made earlier and once ordered , was put under a broiler . xxmaj my wife 's steak was very bland , tender , but not flavorful at all . xxmaj the waiter asked how her steak was and she replied , \" it 's xxup ok . \" xxmaj he said , \"</td>\n",
              "      <td>my lasagna tasted xxup ok but the whole thing was crispy on the outside like it had been made earlier and once ordered , was put under a broiler . xxmaj my wife 's steak was very bland , tender , but not flavorful at all . xxmaj the waiter asked how her steak was and she replied , \" it 's xxup ok . \" xxmaj he said , \" ok</td>\n",
              "    </tr>\n",
              "  </tbody>\n",
              "</table>"
            ],
            "text/plain": [
              "<IPython.core.display.HTML object>"
            ]
          },
          "metadata": {
            "tags": []
          }
        }
      ]
    },
    {
      "cell_type": "code",
      "metadata": {
        "id": "lK4dBrHLGdnV"
      },
      "source": [
        "# torch.save(dls, \"./lm_dls.pkl\")\n",
        "# dls = torch.load(\"./lm_dls.pkl\")"
      ],
      "execution_count": null,
      "outputs": []
    },
    {
      "cell_type": "markdown",
      "metadata": {
        "id": "E8v49lrr0m6y"
      },
      "source": [
        "## Langugae Model + Fine-tuning"
      ]
    },
    {
      "cell_type": "markdown",
      "metadata": {
        "id": "QsOhFZhQ1Z7A"
      },
      "source": [
        "> We can call the language_model_learner function to load a pre-trained language model called ULMFiT [3] that is trained on a large corpuse. (Wikipedia-103) We can fine-tune it on any dataset to predict sentences with different style.\n",
        "\n",
        "<center> <img width=\"800\" src=\"https://raw.githubusercontent.com/AlaFalaki/workshop-materials/main/2021-practical-deep-learning/materials/ulmfit-architecture.png\" /> </center>\n",
        "<center> <small>credit: ULMFiT paper [3]</small> </center>"
      ]
    },
    {
      "cell_type": "code",
      "metadata": {
        "id": "p97ewmoXulY6",
        "colab": {
          "base_uri": "https://localhost:8080/",
          "height": 17
        },
        "outputId": "d3be3418-77f8-4737-82e1-c069ab3df395"
      },
      "source": [
        "learn = language_model_learner(dls, AWD_LSTM, metrics=accuracy).to_fp16()"
      ],
      "execution_count": null,
      "outputs": [
        {
          "output_type": "display_data",
          "data": {
            "text/html": [
              ""
            ],
            "text/plain": [
              "<IPython.core.display.HTML object>"
            ]
          },
          "metadata": {
            "tags": []
          }
        }
      ]
    },
    {
      "cell_type": "code",
      "metadata": {
        "colab": {
          "base_uri": "https://localhost:8080/",
          "height": 52
        },
        "id": "LxUpFJ26xviJ",
        "outputId": "04b8e5ee-df3d-4303-da48-f65d7dfd001d"
      },
      "source": [
        "TEXT  = \"my experience\"\n",
        "WORDS = 30\n",
        "\n",
        "learn.predict(TEXT, WORDS)"
      ],
      "execution_count": null,
      "outputs": [
        {
          "output_type": "display_data",
          "data": {
            "text/html": [
              ""
            ],
            "text/plain": [
              "<IPython.core.display.HTML object>"
            ]
          },
          "metadata": {
            "tags": []
          }
        },
        {
          "output_type": "execute_result",
          "data": {
            "application/vnd.google.colaboratory.intrinsic+json": {
              "type": "string"
            },
            "text/plain": [
              "'my experience routine screening muzzle grams of restraunt solution and DNA testing and detection screening , and a takamatsu security accident being considered in Australia , cardamom u00e9es for use'"
            ]
          },
          "metadata": {
            "tags": []
          },
          "execution_count": 6
        }
      ]
    },
    {
      "cell_type": "code",
      "metadata": {
        "colab": {
          "base_uri": "https://localhost:8080/",
          "height": 174
        },
        "id": "t_15g0pC0AeU",
        "outputId": "f8c8afb2-d1a0-4a29-edb4-5f866f1315ab"
      },
      "source": [
        "learn.fine_tune(2)"
      ],
      "execution_count": null,
      "outputs": [
        {
          "output_type": "display_data",
          "data": {
            "text/html": [
              "<table border=\"1\" class=\"dataframe\">\n",
              "  <thead>\n",
              "    <tr style=\"text-align: left;\">\n",
              "      <th>epoch</th>\n",
              "      <th>train_loss</th>\n",
              "      <th>valid_loss</th>\n",
              "      <th>accuracy</th>\n",
              "      <th>time</th>\n",
              "    </tr>\n",
              "  </thead>\n",
              "  <tbody>\n",
              "    <tr>\n",
              "      <td>0</td>\n",
              "      <td>4.159567</td>\n",
              "      <td>3.875395</td>\n",
              "      <td>0.283907</td>\n",
              "      <td>38:50</td>\n",
              "    </tr>\n",
              "  </tbody>\n",
              "</table>"
            ],
            "text/plain": [
              "<IPython.core.display.HTML object>"
            ]
          },
          "metadata": {
            "tags": []
          }
        },
        {
          "output_type": "display_data",
          "data": {
            "text/html": [
              "<table border=\"1\" class=\"dataframe\">\n",
              "  <thead>\n",
              "    <tr style=\"text-align: left;\">\n",
              "      <th>epoch</th>\n",
              "      <th>train_loss</th>\n",
              "      <th>valid_loss</th>\n",
              "      <th>accuracy</th>\n",
              "      <th>time</th>\n",
              "    </tr>\n",
              "  </thead>\n",
              "  <tbody>\n",
              "    <tr>\n",
              "      <td>0</td>\n",
              "      <td>3.854867</td>\n",
              "      <td>3.648041</td>\n",
              "      <td>0.305992</td>\n",
              "      <td>41:24</td>\n",
              "    </tr>\n",
              "    <tr>\n",
              "      <td>1</td>\n",
              "      <td>3.804299</td>\n",
              "      <td>3.599025</td>\n",
              "      <td>0.310729</td>\n",
              "      <td>41:36</td>\n",
              "    </tr>\n",
              "  </tbody>\n",
              "</table>"
            ],
            "text/plain": [
              "<IPython.core.display.HTML object>"
            ]
          },
          "metadata": {
            "tags": []
          }
        }
      ]
    },
    {
      "cell_type": "code",
      "metadata": {
        "id": "N3eMhyha2Ht1",
        "colab": {
          "base_uri": "https://localhost:8080/",
          "height": 35
        },
        "outputId": "288314eb-b46b-4082-89a8-96c2d2aadadb"
      },
      "source": [
        "TEXT  = \"my experience\"\n",
        "WORDS = 30\n",
        "\n",
        "learn.predict(TEXT, WORDS)"
      ],
      "execution_count": null,
      "outputs": [
        {
          "output_type": "display_data",
          "data": {
            "text/html": [
              ""
            ],
            "text/plain": [
              "<IPython.core.display.HTML object>"
            ]
          },
          "metadata": {
            "tags": []
          }
        },
        {
          "output_type": "execute_result",
          "data": {
            "application/vnd.google.colaboratory.intrinsic+json": {
              "type": "string"
            },
            "text/plain": [
              "\"my experience with this restaurant and the Cafe Downstairs were terrible . \\n\\n OK \\n\\n a good number of tasty food . \\n\\n Do n't let back tell\""
            ]
          },
          "metadata": {
            "tags": []
          },
          "execution_count": 8
        }
      ]
    },
    {
      "cell_type": "code",
      "metadata": {
        "id": "rOtU9wXGUEM6"
      },
      "source": [
        "learn.save_encoder('lm_finetuned')"
      ],
      "execution_count": null,
      "outputs": []
    },
    {
      "cell_type": "markdown",
      "metadata": {
        "id": "BOmFTci8ul4o"
      },
      "source": [
        "## Classification model + Fine-tuning"
      ]
    },
    {
      "cell_type": "code",
      "metadata": {
        "cellView": "code",
        "colab": {
          "base_uri": "https://localhost:8080/",
          "height": 366
        },
        "id": "-DwxC1kIrISB",
        "outputId": "a8ee3424-2ac9-4ff1-eb31-d4b98c8ec90d"
      },
      "source": [
        "dls = TextDataLoaders.from_df(df, text_col='text', label_col='label', seed=42)\n",
        "dls.show_batch(max_n=3)"
      ],
      "execution_count": null,
      "outputs": [
        {
          "output_type": "display_data",
          "data": {
            "text/html": [
              ""
            ],
            "text/plain": [
              "<IPython.core.display.HTML object>"
            ]
          },
          "metadata": {
            "tags": []
          }
        },
        {
          "output_type": "stream",
          "text": [
            "/usr/local/lib/python3.7/dist-packages/numpy/core/_asarray.py:83: VisibleDeprecationWarning: Creating an ndarray from ragged nested sequences (which is a list-or-tuple of lists-or-tuples-or ndarrays with different lengths or shapes) is deprecated. If you meant to do this, you must specify 'dtype=object' when creating the ndarray\n",
            "  return array(a, dtype, copy=False, order=order)\n"
          ],
          "name": "stderr"
        },
        {
          "output_type": "display_data",
          "data": {
            "text/html": [
              "<table border=\"1\" class=\"dataframe\">\n",
              "  <thead>\n",
              "    <tr style=\"text-align: right;\">\n",
              "      <th></th>\n",
              "      <th>text</th>\n",
              "      <th>category</th>\n",
              "    </tr>\n",
              "  </thead>\n",
              "  <tbody>\n",
              "    <tr>\n",
              "      <th>0</th>\n",
              "      <td>xxbos xxup warning . xxup do xxup not xxup go xxup here . \\n\\n xxmaj my family was visiting my sister in xxmaj pittsburgh and we had our eyes set on a specific restaurant , not xxmaj christos . a gentleman , i presume the owner of xxmaj christos , saw my family and i as we walked down the street . xxmaj he xxunk us his menu , xxunk to us why his restaurant was the best and why his food was the best . i could barely tell if he was selling food or used cars . i kindly told him we were not interested . xxmaj my family , however , was indecisive when it came to getting a restaurant . xxmaj we ending up wanting to go eat at the restaurant next door to xxmaj christos so we xxunk . xxmaj again the owner xxunk us</td>\n",
              "      <td>1</td>\n",
              "    </tr>\n",
              "    <tr>\n",
              "      <th>1</th>\n",
              "      <td>xxbos xxmaj short story : the guy smeared the sole rubber all over the shaft of my boots , said he did n't do it , tried to clean it up and took out some of the leather 's dye instead , and did n't give me a refund ( i 'd already paid ) . xxmaj xxunk the story : if you risk this dude , only pay him at the end after you check for xxunk . xxmaj long story below . \\n\\n xxmaj oh , xxmaj groupon , you 've xxunk me wrong yet again . i have awful luck with service at places were xxmaj i 've used xxmaj groupons overall … hey , you put out a xxmaj groupon to bring in customers , not to be pissed when said customers show up for their discounts ! basically , i think the cobbler screwed me</td>\n",
              "      <td>1</td>\n",
              "    </tr>\n",
              "    <tr>\n",
              "      <th>2</th>\n",
              "      <td>xxbos xxmaj for our last lunch in xxmaj pittsburgh we decided to return to the xxmaj big xxmaj burrito xxmaj group ; xxmaj eleven was quite good and both xxmaj xxunk and xxmaj pittsburgh xxmaj magazine compared the experience at xxmaj casbah xxunk to that of xxmaj big xxmaj burrito 's crown xxunk . xxmaj xxunk a mix of xxmaj mediterranean and xxmaj xxunk xxmaj african xxunk with a bargain xxmaj xxunk xxmaj gusto xxmaj menu for lunch and the option for indoor or al xxunk dining it seemed as if xxmaj casbah was a ca n't miss option … well , sometimes things do n't turn out quite as you expect - almost everything that xxunk from the moment we arrived until the moment we left was a xxunk . \\n\\n xxmaj when our server , a young woman named xxmaj amanda l who would xxunk quite xxunk and</td>\n",
              "      <td>1</td>\n",
              "    </tr>\n",
              "  </tbody>\n",
              "</table>"
            ],
            "text/plain": [
              "<IPython.core.display.HTML object>"
            ]
          },
          "metadata": {
            "tags": []
          }
        }
      ]
    },
    {
      "cell_type": "code",
      "metadata": {
        "colab": {
          "base_uri": "https://localhost:8080/",
          "height": 17
        },
        "id": "AxuxLldDtYms",
        "outputId": "1598a91c-d6ee-4bfd-f95b-d260ec3764b1"
      },
      "source": [
        "learn = text_classifier_learner(dls, AWD_LSTM, metrics=accuracy)"
      ],
      "execution_count": null,
      "outputs": [
        {
          "output_type": "display_data",
          "data": {
            "text/html": [
              ""
            ],
            "text/plain": [
              "<IPython.core.display.HTML object>"
            ]
          },
          "metadata": {
            "tags": []
          }
        }
      ]
    },
    {
      "cell_type": "code",
      "metadata": {
        "id": "9T1xHyovP9FY"
      },
      "source": [
        "learn = learn.load_encoder('lm_finetuned')"
      ],
      "execution_count": null,
      "outputs": []
    },
    {
      "cell_type": "code",
      "metadata": {
        "colab": {
          "base_uri": "https://localhost:8080/",
          "height": 174
        },
        "id": "4Iz9BuvkUNU4",
        "outputId": "8a789d16-d0ce-484a-b7bf-b9fecee6e50e"
      },
      "source": [
        "learn.fine_tune(2)"
      ],
      "execution_count": null,
      "outputs": [
        {
          "output_type": "display_data",
          "data": {
            "text/html": [
              "<table border=\"1\" class=\"dataframe\">\n",
              "  <thead>\n",
              "    <tr style=\"text-align: left;\">\n",
              "      <th>epoch</th>\n",
              "      <th>train_loss</th>\n",
              "      <th>valid_loss</th>\n",
              "      <th>accuracy</th>\n",
              "      <th>time</th>\n",
              "    </tr>\n",
              "  </thead>\n",
              "  <tbody>\n",
              "    <tr>\n",
              "      <td>0</td>\n",
              "      <td>0.248143</td>\n",
              "      <td>0.194592</td>\n",
              "      <td>0.921713</td>\n",
              "      <td>13:18</td>\n",
              "    </tr>\n",
              "  </tbody>\n",
              "</table>"
            ],
            "text/plain": [
              "<IPython.core.display.HTML object>"
            ]
          },
          "metadata": {
            "tags": []
          }
        },
        {
          "output_type": "display_data",
          "data": {
            "text/html": [
              "<table border=\"1\" class=\"dataframe\">\n",
              "  <thead>\n",
              "    <tr style=\"text-align: left;\">\n",
              "      <th>epoch</th>\n",
              "      <th>train_loss</th>\n",
              "      <th>valid_loss</th>\n",
              "      <th>accuracy</th>\n",
              "      <th>time</th>\n",
              "    </tr>\n",
              "  </thead>\n",
              "  <tbody>\n",
              "    <tr>\n",
              "      <td>0</td>\n",
              "      <td>0.141901</td>\n",
              "      <td>0.123398</td>\n",
              "      <td>0.951892</td>\n",
              "      <td>31:57</td>\n",
              "    </tr>\n",
              "    <tr>\n",
              "      <td>1</td>\n",
              "      <td>0.122073</td>\n",
              "      <td>0.110710</td>\n",
              "      <td>0.956892</td>\n",
              "      <td>31:57</td>\n",
              "    </tr>\n",
              "  </tbody>\n",
              "</table>"
            ],
            "text/plain": [
              "<IPython.core.display.HTML object>"
            ]
          },
          "metadata": {
            "tags": []
          }
        }
      ]
    },
    {
      "cell_type": "code",
      "metadata": {
        "colab": {
          "base_uri": "https://localhost:8080/"
        },
        "id": "Sz51UbkOQCgU",
        "outputId": "cb30f613-560c-4067-8ac4-38a0371a774c"
      },
      "source": [
        "learn.save(\"finetuned_cls\")"
      ],
      "execution_count": null,
      "outputs": [
        {
          "output_type": "execute_result",
          "data": {
            "text/plain": [
              "Path('models/finetuned_cls.pth')"
            ]
          },
          "metadata": {
            "tags": []
          },
          "execution_count": 9
        }
      ]
    },
    {
      "cell_type": "code",
      "metadata": {
        "id": "VKgn1jNIMplp"
      },
      "source": [
        "#learn.load(\"finetuned_cls\")"
      ],
      "execution_count": null,
      "outputs": []
    },
    {
      "cell_type": "code",
      "metadata": {
        "colab": {
          "base_uri": "https://localhost:8080/",
          "height": 51
        },
        "id": "OUGr9naMeKEJ",
        "outputId": "ae134f09-d6fb-4c18-8044-fff2db93049f"
      },
      "source": [
        "print( learn.predict(\"I really like this restaurant.\") )\n",
        "print( learn.predict(\"Not so good restaurant.\") )"
      ],
      "execution_count": null,
      "outputs": [
        {
          "output_type": "display_data",
          "data": {
            "text/html": [
              ""
            ],
            "text/plain": [
              "<IPython.core.display.HTML object>"
            ]
          },
          "metadata": {
            "tags": []
          }
        },
        {
          "output_type": "stream",
          "text": [
            "('2', tensor(1), tensor([0.0074, 0.9926]))\n"
          ],
          "name": "stdout"
        },
        {
          "output_type": "display_data",
          "data": {
            "text/html": [
              ""
            ],
            "text/plain": [
              "<IPython.core.display.HTML object>"
            ]
          },
          "metadata": {
            "tags": []
          }
        },
        {
          "output_type": "stream",
          "text": [
            "('1', tensor(0), tensor([0.9972, 0.0028]))\n"
          ],
          "name": "stdout"
        }
      ]
    },
    {
      "cell_type": "markdown",
      "metadata": {
        "id": "9xBjMcRVAOuq"
      },
      "source": [
        "## Fine-Tune Just the Classifier"
      ]
    },
    {
      "cell_type": "markdown",
      "metadata": {
        "id": "Kkq_nnalQ6S3"
      },
      "source": [
        "> Let's see what happens if we skip fine-tuning the language model first."
      ]
    },
    {
      "cell_type": "code",
      "metadata": {
        "id": "yIhe8nyahizS"
      },
      "source": [
        "learn = text_classifier_learner(dls, AWD_LSTM, metrics=accuracy)"
      ],
      "execution_count": null,
      "outputs": []
    },
    {
      "cell_type": "code",
      "metadata": {
        "colab": {
          "base_uri": "https://localhost:8080/",
          "height": 174
        },
        "id": "v720Qinrhk_S",
        "outputId": "a5074704-4654-499e-9d1b-35a5c088ec19"
      },
      "source": [
        "learn.fine_tune(2)"
      ],
      "execution_count": null,
      "outputs": [
        {
          "output_type": "display_data",
          "data": {
            "text/html": [
              "<table border=\"1\" class=\"dataframe\">\n",
              "  <thead>\n",
              "    <tr style=\"text-align: left;\">\n",
              "      <th>epoch</th>\n",
              "      <th>train_loss</th>\n",
              "      <th>valid_loss</th>\n",
              "      <th>accuracy</th>\n",
              "      <th>time</th>\n",
              "    </tr>\n",
              "  </thead>\n",
              "  <tbody>\n",
              "    <tr>\n",
              "      <td>0</td>\n",
              "      <td>0.411878</td>\n",
              "      <td>0.325700</td>\n",
              "      <td>0.864873</td>\n",
              "      <td>13:09</td>\n",
              "    </tr>\n",
              "  </tbody>\n",
              "</table>"
            ],
            "text/plain": [
              "<IPython.core.display.HTML object>"
            ]
          },
          "metadata": {
            "tags": []
          }
        },
        {
          "output_type": "display_data",
          "data": {
            "text/html": [
              "<table border=\"1\" class=\"dataframe\">\n",
              "  <thead>\n",
              "    <tr style=\"text-align: left;\">\n",
              "      <th>epoch</th>\n",
              "      <th>train_loss</th>\n",
              "      <th>valid_loss</th>\n",
              "      <th>accuracy</th>\n",
              "      <th>time</th>\n",
              "    </tr>\n",
              "  </thead>\n",
              "  <tbody>\n",
              "    <tr>\n",
              "      <td>0</td>\n",
              "      <td>0.207787</td>\n",
              "      <td>0.158585</td>\n",
              "      <td>0.936124</td>\n",
              "      <td>31:52</td>\n",
              "    </tr>\n",
              "    <tr>\n",
              "      <td>1</td>\n",
              "      <td>0.157511</td>\n",
              "      <td>0.145399</td>\n",
              "      <td>0.943410</td>\n",
              "      <td>31:51</td>\n",
              "    </tr>\n",
              "  </tbody>\n",
              "</table>"
            ],
            "text/plain": [
              "<IPython.core.display.HTML object>"
            ]
          },
          "metadata": {
            "tags": []
          }
        }
      ]
    },
    {
      "cell_type": "markdown",
      "metadata": {
        "id": "eY1ds10QRFs3"
      },
      "source": [
        "> There is a 1.5% difference. It might not look much, but it is a big deal if you are in a competition."
      ]
    },
    {
      "cell_type": "markdown",
      "metadata": {
        "id": "Klsn3WcYXqky"
      },
      "source": [
        "## Let's look under the hood"
      ]
    },
    {
      "cell_type": "markdown",
      "metadata": {
        "id": "QRyqSYwtu4Fn"
      },
      "source": [
        "> We will look at a basic implementation of a simple text classifier. You will see the model's implementation with PyTorch and learn how to find the best learning rate and do the training loop using FastAI."
      ]
    },
    {
      "cell_type": "code",
      "metadata": {
        "id": "HBI00evzdkrY",
        "colab": {
          "base_uri": "https://localhost:8080/",
          "height": 451
        },
        "outputId": "4d7e72bf-a4c2-4ad8-b8cb-598522adf362"
      },
      "source": [
        "dls = TextDataLoaders.from_df(df, text_col='text', label_col='label', seed=42)\n",
        "dls.show_batch(max_n=3)"
      ],
      "execution_count": null,
      "outputs": [
        {
          "output_type": "display_data",
          "data": {
            "text/html": [
              ""
            ],
            "text/plain": [
              "<IPython.core.display.HTML object>"
            ]
          },
          "metadata": {
            "tags": []
          }
        },
        {
          "output_type": "stream",
          "text": [
            "/usr/local/lib/python3.7/dist-packages/numpy/core/_asarray.py:83: VisibleDeprecationWarning: Creating an ndarray from ragged nested sequences (which is a list-or-tuple of lists-or-tuples-or ndarrays with different lengths or shapes) is deprecated. If you meant to do this, you must specify 'dtype=object' when creating the ndarray\n",
            "  return array(a, dtype, copy=False, order=order)\n"
          ],
          "name": "stderr"
        },
        {
          "output_type": "display_data",
          "data": {
            "text/html": [
              "<table border=\"1\" class=\"dataframe\">\n",
              "  <thead>\n",
              "    <tr style=\"text-align: right;\">\n",
              "      <th></th>\n",
              "      <th>text</th>\n",
              "      <th>category</th>\n",
              "    </tr>\n",
              "  </thead>\n",
              "  <tbody>\n",
              "    <tr>\n",
              "      <th>0</th>\n",
              "      <td>xxbos xxmaj oh , xxup t.i . xxmaj you should be xxup ashamed to even call this a \" buffet . \" \\n\\n xxmaj we got comped , so we checked it out , and decided \" what the heck . \" xxmaj unfortunately , we 'd checked it out at late breakfast time , and actually did the whole \" eating \" part at dinner . xxmaj breakfast , if small in selection , at least looked decent . xxmaj dinner ? \\n\\n xxmaj oh . xxmaj em . xxmaj gee . \\n\\n xxmaj first of all , i really hope xxup every person ( all 6 of them ) at the buffet that evening were also xxmaj comped . xxmaj because seriously ? xxmaj if xxmaj i 'd paid $ 22 for that \" selection \" of foods , xxmaj i 'd be calling the xxmaj better xxmaj</td>\n",
              "      <td>1</td>\n",
              "    </tr>\n",
              "    <tr>\n",
              "      <th>1</th>\n",
              "      <td>xxbos xxrep 9 * xxup do xxup not xxup stay xxup here . xxrep 5 * xxmaj quality and service are now a xxup zero . xxup not a xxup family place xxup at xxup all . \\n\\n xxmaj seriously went down in quality since our last visit . xxmaj we stayed xxmaj may 22 - xxmaj may 27 , 2014 and our experience was horrible . xxmaj this property is in serious finical trouble that staff has been cut &amp; reflected in the poor overall impression of this once nice property . \\n\\n 1 ) xxmaj prior to arriving , i called to request a room upstairs , easy in &amp; out , and a microwave . xxmaj maria , the clerk , told me all rooms have microwaves and assured me i do nt need to ask . \\n\\n 2 ) xxup ck - in . xxmaj the</td>\n",
              "      <td>1</td>\n",
              "    </tr>\n",
              "    <tr>\n",
              "      <th>2</th>\n",
              "      <td>xxbos xxmaj it gets a xxup meh from me . xxmaj nothing spectacular here in my opinion , but it 's ok if you want to eat safe seafood . i think i may be a bit bias on this though because i am from xxmaj hawaii and xxmaj i 've had my fair share of \" chicken of the xxmaj sea \" , and the quality of the stuff from xxmaj red xxmaj lobster just does n't even compare with what you can catch with your own bare hands from what basically used to be my own backyard . \\n\\n i remember the days , parties with platters upon platters of raw , fresh sashimi ( oh how i miss you hot mustard &amp; shoyu ! ) , places quality sushi , and the lovely aroma of fish tempura with a squeeze of lemon , some tartar sauce and</td>\n",
              "      <td>1</td>\n",
              "    </tr>\n",
              "  </tbody>\n",
              "</table>"
            ],
            "text/plain": [
              "<IPython.core.display.HTML object>"
            ]
          },
          "metadata": {
            "tags": []
          }
        }
      ]
    },
    {
      "cell_type": "code",
      "metadata": {
        "id": "qaYHKUNgea7g"
      },
      "source": [
        "class Classifier(Module):\n",
        "  def __init__(self, vocab_size):\n",
        "    self.hidden_size = 300\n",
        "    self.number_of_layers = 3\n",
        "    self.number_of_targets = 2\n",
        "\n",
        "    self.emb        = nn.Embedding(vocab_size, self.hidden_size)\n",
        "    self.encoder    = nn.LSTM(self.hidden_size, self.hidden_size, self.number_of_layers, batch_first=True)\n",
        "    self.classifier  = nn.Linear(self.hidden_size, self.number_of_targets)\n",
        "\n",
        "  def forward(self, inp):\n",
        "\n",
        "    inp_embded = self.emb(inp)\n",
        "    _, hidden_state = self.encoder(inp_embded)\n",
        "\n",
        "    cls = self.classifier( hidden_state[0][-1] )\n",
        "    \n",
        "    return cls"
      ],
      "execution_count": null,
      "outputs": []
    },
    {
      "cell_type": "code",
      "metadata": {
        "id": "zrHSGzxCdldb"
      },
      "source": [
        "model = Classifier(len(dls.vocab[0]))\n",
        "\n",
        "learn = Learner(dls, model,\n",
        "                    loss_func=LabelSmoothingCrossEntropy(), metrics=accuracy)"
      ],
      "execution_count": null,
      "outputs": []
    },
    {
      "cell_type": "code",
      "metadata": {
        "colab": {
          "base_uri": "https://localhost:8080/",
          "height": 300
        },
        "id": "KqUnY2ysjAsp",
        "outputId": "61f14f06-dab9-41be-bb01-eae79cfe5522"
      },
      "source": [
        "learn.lr_find()"
      ],
      "execution_count": null,
      "outputs": [
        {
          "output_type": "display_data",
          "data": {
            "text/html": [
              ""
            ],
            "text/plain": [
              "<IPython.core.display.HTML object>"
            ]
          },
          "metadata": {
            "tags": []
          }
        },
        {
          "output_type": "execute_result",
          "data": {
            "text/plain": [
              "SuggestedLRs(valley=tensor(0.0017))"
            ]
          },
          "metadata": {
            "tags": []
          },
          "execution_count": 8
        },
        {
          "output_type": "display_data",
          "data": {
            "image/png": "[encoded data removed]",
            "text/plain": [
              "<Figure size 432x288 with 1 Axes>"
            ]
          },
          "metadata": {
            "tags": [],
            "needs_background": "light"
          }
        }
      ]
    },
    {
      "cell_type": "code",
      "metadata": {
        "id": "nz_QyCEydlQ4",
        "colab": {
          "base_uri": "https://localhost:8080/",
          "height": 80
        },
        "outputId": "4b694b1d-5d3e-4ffc-f040-eef7606aaccf"
      },
      "source": [
        "learn.fit_one_cycle(1, 1e-3)"
      ],
      "execution_count": null,
      "outputs": [
        {
          "output_type": "display_data",
          "data": {
            "text/html": [
              "<table border=\"1\" class=\"dataframe\">\n",
              "  <thead>\n",
              "    <tr style=\"text-align: left;\">\n",
              "      <th>epoch</th>\n",
              "      <th>train_loss</th>\n",
              "      <th>valid_loss</th>\n",
              "      <th>accuracy</th>\n",
              "      <th>time</th>\n",
              "    </tr>\n",
              "  </thead>\n",
              "  <tbody>\n",
              "    <tr>\n",
              "      <td>0</td>\n",
              "      <td>0.298209</td>\n",
              "      <td>0.300382</td>\n",
              "      <td>0.937374</td>\n",
              "      <td>07:48</td>\n",
              "    </tr>\n",
              "  </tbody>\n",
              "</table>"
            ],
            "text/plain": [
              "<IPython.core.display.HTML object>"
            ]
          },
          "metadata": {
            "tags": []
          }
        }
      ]
    },
    {
      "cell_type": "markdown",
      "metadata": {
        "id": "ADPoMA8oSUbs"
      },
      "source": [
        "> Let's have a break. We will look closely at some components in Part 2."
      ]
    },
    {
      "cell_type": "markdown",
      "metadata": {
        "id": "Vs7jBv5W-Bs8"
      },
      "source": [
        "# References"
      ]
    },
    {
      "cell_type": "markdown",
      "metadata": {
        "id": "CoTxaIrz-D-U"
      },
      "source": [
        "1. *Mikolov, T., Chen, K., Corrado, G., & Dean, J. (2013). Efficient estimation of word representations in vector space. arXiv preprint arXiv:1301.3781.*\n",
        "\n",
        "2. *Maas, A., Daly, R., Pham, P., Huang, D., Ng, A., & Potts, C. (2011). Learning Word Vectors for Sentiment Analysis. In Proceedings of the 49th Annual Meeting of the Association for Computational Linguistics: Human Language Technologies (pp. 142–150). Association for Computational Linguistics.*\n",
        "\n",
        "3. *Howard, J., & Ruder, S. (2018). Universal language model fine-tuning for text classification. arXiv preprint arXiv:1801.06146.*"
      ]
    },
    {
      "cell_type": "code",
      "metadata": {
        "id": "VFtYdXW9CQTK"
      },
      "source": [
        ""
      ],
      "execution_count": null,
      "outputs": []
    }
  ]
}