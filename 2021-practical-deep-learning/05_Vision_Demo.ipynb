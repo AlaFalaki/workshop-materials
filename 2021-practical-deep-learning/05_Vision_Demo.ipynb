{
  "nbformat": 4,
  "nbformat_minor": 0,
  "metadata": {
    "colab": {
      "name": "05-Vision_Demo.ipynb",
      "provenance": [],
      "collapsed_sections": []
    },
    "kernelspec": {
      "display_name": "Python 3",
      "name": "python3"
    },
    "language_info": {
      "name": "python"
    },
    "widgets": {
      "application/vnd.jupyter.widget-state+json": {
        "5f404a52202140e9b94457b8e548e5d4": {
          "model_module": "@jupyter-widgets/controls",
          "model_name": "VBoxModel",
          "state": {
            "_view_name": "VBoxView",
            "_dom_classes": [],
            "_model_name": "VBoxModel",
            "_view_module": "@jupyter-widgets/controls",
            "_model_module_version": "1.5.0",
            "_view_count": null,
            "_view_module_version": "1.5.0",
            "box_style": "",
            "layout": "IPY_MODEL_3eb624eda0364ef98d24bdf4b9d289a9",
            "_model_module": "@jupyter-widgets/controls",
            "children": [
              "IPY_MODEL_c3a00deb155d4bd39b57da7faa994f62",
              "IPY_MODEL_0ba70451d12b48fc9a345bafe992dfcc",
              "IPY_MODEL_274636c1eb764ee8b994e13428c3ef44",
              "IPY_MODEL_5daade782d2242bc88d9fb4a0f02578a",
              "IPY_MODEL_edf24907e3b64087882d9c6b92162705"
            ]
          }
        },
        "3eb624eda0364ef98d24bdf4b9d289a9": {
          "model_module": "@jupyter-widgets/base",
          "model_name": "LayoutModel",
          "state": {
            "_view_name": "LayoutView",
            "grid_template_rows": null,
            "right": null,
            "justify_content": null,
            "_view_module": "@jupyter-widgets/base",
            "overflow": null,
            "_model_module_version": "1.2.0",
            "_view_count": null,
            "flex_flow": null,
            "width": null,
            "min_width": null,
            "border": null,
            "align_items": null,
            "bottom": null,
            "_model_module": "@jupyter-widgets/base",
            "top": null,
            "grid_column": null,
            "overflow_y": null,
            "overflow_x": null,
            "grid_auto_flow": null,
            "grid_area": null,
            "grid_template_columns": null,
            "flex": null,
            "_model_name": "LayoutModel",
            "justify_items": null,
            "grid_row": null,
            "max_height": null,
            "align_content": null,
            "visibility": null,
            "align_self": null,
            "height": null,
            "min_height": null,
            "padding": null,
            "grid_auto_rows": null,
            "grid_gap": null,
            "max_width": null,
            "order": null,
            "_view_module_version": "1.2.0",
            "grid_template_areas": null,
            "object_position": null,
            "object_fit": null,
            "grid_auto_columns": null,
            "margin": null,
            "display": null,
            "left": null
          }
        },
        "c3a00deb155d4bd39b57da7faa994f62": {
          "model_module": "@jupyter-widgets/controls",
          "model_name": "LabelModel",
          "state": {
            "_view_name": "LabelView",
            "style": "IPY_MODEL_dbe7ee17cbb0480eafa48a289c14c6df",
            "_dom_classes": [],
            "description": "",
            "_model_name": "LabelModel",
            "placeholder": "​",
            "_view_module": "@jupyter-widgets/controls",
            "_model_module_version": "1.5.0",
            "value": "Do you want to know you flower? Upload a Photo...",
            "_view_count": null,
            "_view_module_version": "1.5.0",
            "description_tooltip": null,
            "_model_module": "@jupyter-widgets/controls",
            "layout": "IPY_MODEL_6bcb495419da47f684d72b6a8c0b516f"
          }
        },
        "0ba70451d12b48fc9a345bafe992dfcc": {
          "model_module": "@jupyter-widgets/controls",
          "model_name": "FileUploadModel",
          "state": {
            "_view_name": "FileUploadView",
            "_counter": 0,
            "style": "IPY_MODEL_0a750bd426a5463d8c41205988e77cfd",
            "_dom_classes": [],
            "description": "Upload",
            "multiple": false,
            "_model_name": "FileUploadModel",
            "data": [],
            "button_style": "",
            "_view_module": "@jupyter-widgets/controls",
            "_model_module_version": "1.5.0",
            "accept": "",
            "_view_count": null,
            "disabled": false,
            "_view_module_version": "1.5.0",
            "error": "",
            "description_tooltip": null,
            "metadata": [],
            "_model_module": "@jupyter-widgets/controls",
            "layout": "IPY_MODEL_9c425c20377840668430ca84e1fd4978",
            "icon": "upload"
          }
        },
        "274636c1eb764ee8b994e13428c3ef44": {
          "model_module": "@jupyter-widgets/controls",
          "model_name": "ButtonModel",
          "state": {
            "_view_name": "ButtonView",
            "style": "IPY_MODEL_337fee7201cb469ea6019e3061a4707f",
            "_dom_classes": [],
            "description": "Classify",
            "_model_name": "ButtonModel",
            "button_style": "",
            "_view_module": "@jupyter-widgets/controls",
            "_model_module_version": "1.5.0",
            "tooltip": "",
            "_view_count": null,
            "disabled": false,
            "_view_module_version": "1.5.0",
            "layout": "IPY_MODEL_d31ef7e2e0dd41008effb99ca21ffca1",
            "_model_module": "@jupyter-widgets/controls",
            "icon": ""
          }
        },
        "5daade782d2242bc88d9fb4a0f02578a": {
          "model_module": "@jupyter-widgets/output",
          "model_name": "OutputModel",
          "state": {
            "_view_name": "OutputView",
            "msg_id": "",
            "_dom_classes": [],
            "_model_name": "OutputModel",
            "outputs": [],
            "_view_module": "@jupyter-widgets/output",
            "_model_module_version": "1.0.0",
            "_view_count": null,
            "_view_module_version": "1.0.0",
            "layout": "IPY_MODEL_8a75049fb05f45459fb1e7b988f4dfe3",
            "_model_module": "@jupyter-widgets/output"
          }
        },
        "edf24907e3b64087882d9c6b92162705": {
          "model_module": "@jupyter-widgets/controls",
          "model_name": "LabelModel",
          "state": {
            "_view_name": "LabelView",
            "style": "IPY_MODEL_f371b5d6cbb7429383b7d8d512f4ab09",
            "_dom_classes": [],
            "description": "",
            "_model_name": "LabelModel",
            "placeholder": "​",
            "_view_module": "@jupyter-widgets/controls",
            "_model_module_version": "1.5.0",
            "value": "Waiting for Result...",
            "_view_count": null,
            "_view_module_version": "1.5.0",
            "description_tooltip": null,
            "_model_module": "@jupyter-widgets/controls",
            "layout": "IPY_MODEL_009c36cf982b4d918ca0d63de34f7b24"
          }
        },
        "dbe7ee17cbb0480eafa48a289c14c6df": {
          "model_module": "@jupyter-widgets/controls",
          "model_name": "DescriptionStyleModel",
          "state": {
            "_view_name": "StyleView",
            "_model_name": "DescriptionStyleModel",
            "description_width": "",
            "_view_module": "@jupyter-widgets/base",
            "_model_module_version": "1.5.0",
            "_view_count": null,
            "_view_module_version": "1.2.0",
            "_model_module": "@jupyter-widgets/controls"
          }
        },
        "6bcb495419da47f684d72b6a8c0b516f": {
          "model_module": "@jupyter-widgets/base",
          "model_name": "LayoutModel",
          "state": {
            "_view_name": "LayoutView",
            "grid_template_rows": null,
            "right": null,
            "justify_content": null,
            "_view_module": "@jupyter-widgets/base",
            "overflow": null,
            "_model_module_version": "1.2.0",
            "_view_count": null,
            "flex_flow": null,
            "width": null,
            "min_width": null,
            "border": null,
            "align_items": null,
            "bottom": null,
            "_model_module": "@jupyter-widgets/base",
            "top": null,
            "grid_column": null,
            "overflow_y": null,
            "overflow_x": null,
            "grid_auto_flow": null,
            "grid_area": null,
            "grid_template_columns": null,
            "flex": null,
            "_model_name": "LayoutModel",
            "justify_items": null,
            "grid_row": null,
            "max_height": null,
            "align_content": null,
            "visibility": null,
            "align_self": null,
            "height": null,
            "min_height": null,
            "padding": null,
            "grid_auto_rows": null,
            "grid_gap": null,
            "max_width": null,
            "order": null,
            "_view_module_version": "1.2.0",
            "grid_template_areas": null,
            "object_position": null,
            "object_fit": null,
            "grid_auto_columns": null,
            "margin": null,
            "display": null,
            "left": null
          }
        },
        "0a750bd426a5463d8c41205988e77cfd": {
          "model_module": "@jupyter-widgets/controls",
          "model_name": "ButtonStyleModel",
          "state": {
            "_view_name": "StyleView",
            "_model_name": "ButtonStyleModel",
            "_view_module": "@jupyter-widgets/base",
            "_model_module_version": "1.5.0",
            "_view_count": null,
            "button_color": null,
            "font_weight": "",
            "_view_module_version": "1.2.0",
            "_model_module": "@jupyter-widgets/controls"
          }
        },
        "9c425c20377840668430ca84e1fd4978": {
          "model_module": "@jupyter-widgets/base",
          "model_name": "LayoutModel",
          "state": {
            "_view_name": "LayoutView",
            "grid_template_rows": null,
            "right": null,
            "justify_content": null,
            "_view_module": "@jupyter-widgets/base",
            "overflow": null,
            "_model_module_version": "1.2.0",
            "_view_count": null,
            "flex_flow": null,
            "width": null,
            "min_width": null,
            "border": null,
            "align_items": null,
            "bottom": null,
            "_model_module": "@jupyter-widgets/base",
            "top": null,
            "grid_column": null,
            "overflow_y": null,
            "overflow_x": null,
            "grid_auto_flow": null,
            "grid_area": null,
            "grid_template_columns": null,
            "flex": null,
            "_model_name": "LayoutModel",
            "justify_items": null,
            "grid_row": null,
            "max_height": null,
            "align_content": null,
            "visibility": null,
            "align_self": null,
            "height": null,
            "min_height": null,
            "padding": null,
            "grid_auto_rows": null,
            "grid_gap": null,
            "max_width": null,
            "order": null,
            "_view_module_version": "1.2.0",
            "grid_template_areas": null,
            "object_position": null,
            "object_fit": null,
            "grid_auto_columns": null,
            "margin": null,
            "display": null,
            "left": null
          }
        },
        "337fee7201cb469ea6019e3061a4707f": {
          "model_module": "@jupyter-widgets/controls",
          "model_name": "ButtonStyleModel",
          "state": {
            "_view_name": "StyleView",
            "_model_name": "ButtonStyleModel",
            "_view_module": "@jupyter-widgets/base",
            "_model_module_version": "1.5.0",
            "_view_count": null,
            "button_color": null,
            "font_weight": "",
            "_view_module_version": "1.2.0",
            "_model_module": "@jupyter-widgets/controls"
          }
        },
        "d31ef7e2e0dd41008effb99ca21ffca1": {
          "model_module": "@jupyter-widgets/base",
          "model_name": "LayoutModel",
          "state": {
            "_view_name": "LayoutView",
            "grid_template_rows": null,
            "right": null,
            "justify_content": null,
            "_view_module": "@jupyter-widgets/base",
            "overflow": null,
            "_model_module_version": "1.2.0",
            "_view_count": null,
            "flex_flow": null,
            "width": null,
            "min_width": null,
            "border": null,
            "align_items": null,
            "bottom": null,
            "_model_module": "@jupyter-widgets/base",
            "top": null,
            "grid_column": null,
            "overflow_y": null,
            "overflow_x": null,
            "grid_auto_flow": null,
            "grid_area": null,
            "grid_template_columns": null,
            "flex": null,
            "_model_name": "LayoutModel",
            "justify_items": null,
            "grid_row": null,
            "max_height": null,
            "align_content": null,
            "visibility": null,
            "align_self": null,
            "height": null,
            "min_height": null,
            "padding": null,
            "grid_auto_rows": null,
            "grid_gap": null,
            "max_width": null,
            "order": null,
            "_view_module_version": "1.2.0",
            "grid_template_areas": null,
            "object_position": null,
            "object_fit": null,
            "grid_auto_columns": null,
            "margin": null,
            "display": null,
            "left": null
          }
        },
        "f371b5d6cbb7429383b7d8d512f4ab09": {
          "model_module": "@jupyter-widgets/controls",
          "model_name": "DescriptionStyleModel",
          "state": {
            "_view_name": "StyleView",
            "_model_name": "DescriptionStyleModel",
            "description_width": "",
            "_view_module": "@jupyter-widgets/base",
            "_model_module_version": "1.5.0",
            "_view_count": null,
            "_view_module_version": "1.2.0",
            "_model_module": "@jupyter-widgets/controls"
          }
        },
        "009c36cf982b4d918ca0d63de34f7b24": {
          "model_module": "@jupyter-widgets/base",
          "model_name": "LayoutModel",
          "state": {
            "_view_name": "LayoutView",
            "grid_template_rows": null,
            "right": null,
            "justify_content": null,
            "_view_module": "@jupyter-widgets/base",
            "overflow": null,
            "_model_module_version": "1.2.0",
            "_view_count": null,
            "flex_flow": null,
            "width": null,
            "min_width": null,
            "border": null,
            "align_items": null,
            "bottom": null,
            "_model_module": "@jupyter-widgets/base",
            "top": null,
            "grid_column": null,
            "overflow_y": null,
            "overflow_x": null,
            "grid_auto_flow": null,
            "grid_area": null,
            "grid_template_columns": null,
            "flex": null,
            "_model_name": "LayoutModel",
            "justify_items": null,
            "grid_row": null,
            "max_height": null,
            "align_content": null,
            "visibility": null,
            "align_self": null,
            "height": null,
            "min_height": null,
            "padding": null,
            "grid_auto_rows": null,
            "grid_gap": null,
            "max_width": null,
            "order": null,
            "_view_module_version": "1.2.0",
            "grid_template_areas": null,
            "object_position": null,
            "object_fit": null,
            "grid_auto_columns": null,
            "margin": null,
            "display": null,
            "left": null
          }
        },
        "8a75049fb05f45459fb1e7b988f4dfe3": {
          "model_module": "@jupyter-widgets/base",
          "model_name": "LayoutModel",
          "state": {
            "_view_name": "LayoutView",
            "grid_template_rows": null,
            "right": null,
            "justify_content": null,
            "_view_module": "@jupyter-widgets/base",
            "overflow": null,
            "_model_module_version": "1.2.0",
            "_view_count": null,
            "flex_flow": null,
            "width": null,
            "min_width": null,
            "border": null,
            "align_items": null,
            "bottom": null,
            "_model_module": "@jupyter-widgets/base",
            "top": null,
            "grid_column": null,
            "overflow_y": null,
            "overflow_x": null,
            "grid_auto_flow": null,
            "grid_area": null,
            "grid_template_columns": null,
            "flex": null,
            "_model_name": "LayoutModel",
            "justify_items": null,
            "grid_row": null,
            "max_height": null,
            "align_content": null,
            "visibility": null,
            "align_self": null,
            "height": null,
            "min_height": null,
            "padding": null,
            "grid_auto_rows": null,
            "grid_gap": null,
            "max_width": null,
            "order": null,
            "_view_module_version": "1.2.0",
            "grid_template_areas": null,
            "object_position": null,
            "object_fit": null,
            "grid_auto_columns": null,
            "margin": null,
            "display": null,
            "left": null
          }
        }
      }
    },
    "accelerator": "GPU"
  },
  "cells": [
    {
      "cell_type": "markdown",
      "metadata": {
        "id": "upBpcoDPuB-g"
      },
      "source": [
        "*Highly Recommend opening this notebook on Google Colab. A number of Text cells will not show up on GitHub.*\n",
        "\n",
        "⚠️ <a href=\"https://colab.research.google.com/github/AlaFalaki/workshop-materials/blob/main/2021-practical-deep-learning/05-Vision_Demo.ipynb\"> Click Here To Open in Google Colab </a> ⚠️"
      ]
    },
    {
      "cell_type": "markdown",
      "metadata": {
        "id": "QxCZ9r969-44"
      },
      "source": [
        "# Practical Deep Learning Workshop"
      ]
    },
    {
      "cell_type": "markdown",
      "metadata": {
        "id": "vxjOkBiuJ7ol"
      },
      "source": [
        "# Demo (Vision)\n",
        "\n",
        "* See how to make simple UI,\n",
        "* And, how to use our model in an application"
      ]
    },
    {
      "cell_type": "markdown",
      "metadata": {
        "id": "6YoygaagkZXr"
      },
      "source": [
        "# Install FastAI2"
      ]
    },
    {
      "cell_type": "markdown",
      "metadata": {
        "id": "FQIHL4dKjham"
      },
      "source": [
        "> Run the cell below to install FastAI2. <br /><br />\n",
        "> ⚠️ Make sure to restart the current runtime after the installation for changes to affect. Select 'Runtime' From the top menu and click on 'Restart Runtime'."
      ]
    },
    {
      "cell_type": "code",
      "metadata": {
        "id": "JE4ETrVnh7aN",
        "colab": {
          "base_uri": "https://localhost:8080/"
        },
        "outputId": "ef035825-005f-4819-d2d2-5a1765bf06f4"
      },
      "source": [
        "!pip install -Uq fastai"
      ],
      "execution_count": null,
      "outputs": [
        {
          "output_type": "stream",
          "text": [
            "\u001b[K     |████████████████████████████████| 188 kB 4.4 MB/s \n",
            "\u001b[K     |████████████████████████████████| 53 kB 2.0 MB/s \n",
            "\u001b[?25h"
          ],
          "name": "stdout"
        }
      ]
    },
    {
      "cell_type": "code",
      "metadata": {
        "id": "3oN75flV0y8L"
      },
      "source": [
        "from fastai.vision.all import *\n",
        "\n",
        "import warnings\n",
        "warnings.filterwarnings('ignore')"
      ],
      "execution_count": null,
      "outputs": []
    },
    {
      "cell_type": "markdown",
      "metadata": {
        "id": "aIYVI0zuyOLv"
      },
      "source": [
        "# Load the Model"
      ]
    },
    {
      "cell_type": "markdown",
      "metadata": {
        "id": "-UbhePsI1WMZ"
      },
      "source": [
        "> You can download the model used in this demo from [this link](https://drive.google.com/drive/folders/1DPKt3-fu9KXUejXfTMvBaJq5X1vj9mRC?usp=sharing) (finetuned_cls.pkl file, do not uncompress it) and upload it to this Colab instance by chosing the Files menu from the left sidebar."
      ]
    },
    {
      "cell_type": "code",
      "metadata": {
        "id": "XSwuiDYCyRG1"
      },
      "source": [
        "def get_x(x): return path/x['link']\n",
        "def get_y(x): return x['label']\n",
        "\n",
        "learn = load_learner(\"finetuned_cls.pkl\")"
      ],
      "execution_count": null,
      "outputs": []
    },
    {
      "cell_type": "markdown",
      "metadata": {
        "id": "WeLVOWa82hLC"
      },
      "source": [
        "# Make the UI with FastAi Widgets"
      ]
    },
    {
      "cell_type": "code",
      "metadata": {
        "id": "XOrOtQTE9T-q"
      },
      "source": [
        "from fastai.vision.widgets import *"
      ],
      "execution_count": null,
      "outputs": []
    },
    {
      "cell_type": "markdown",
      "metadata": {
        "id": "XJIGDrsp2l03"
      },
      "source": [
        "> The fileuploader element."
      ]
    },
    {
      "cell_type": "code",
      "metadata": {
        "id": "i-wrdtRd-zUh"
      },
      "source": [
        "btn_upload = widgets.FileUpload()"
      ],
      "execution_count": null,
      "outputs": []
    },
    {
      "cell_type": "markdown",
      "metadata": {
        "id": "87gmTFE-2qLZ"
      },
      "source": [
        "> The Output module to display the uploaded image."
      ]
    },
    {
      "cell_type": "code",
      "metadata": {
        "id": "alNImNei-6qY"
      },
      "source": [
        "out_pl = widgets.Output()"
      ],
      "execution_count": null,
      "outputs": []
    },
    {
      "cell_type": "markdown",
      "metadata": {
        "id": "QrgtOMid2wVM"
      },
      "source": [
        "> A label, so we can show the model prediction."
      ]
    },
    {
      "cell_type": "code",
      "metadata": {
        "id": "gNG4RVWs_OzA"
      },
      "source": [
        "lbl_pred = widgets.Label()\n",
        "lbl_pred.value = f'Waiting for Result...'"
      ],
      "execution_count": null,
      "outputs": []
    },
    {
      "cell_type": "markdown",
      "metadata": {
        "id": "vXI_ug0m2352"
      },
      "source": [
        "> A button to trigger the model for making a prediction. We also have the *on_click_classify* function, which we will connect to the button's onclick attribute. So, everytime you click the Classify button, this function will run."
      ]
    },
    {
      "cell_type": "code",
      "metadata": {
        "id": "VNBtVXna-oQ3"
      },
      "source": [
        "btn_run = widgets.Button(description='Classify')"
      ],
      "execution_count": null,
      "outputs": []
    },
    {
      "cell_type": "code",
      "metadata": {
        "id": "hDMMVYdg-XjS"
      },
      "source": [
        "def on_click_classify(change):\n",
        "    img = PILImage.create(btn_upload.data[-1])\n",
        "    out_pl.clear_output()\n",
        "    with out_pl: display(img.to_thumb(128,128))\n",
        "    pred, pred_idx,probs = learn.predict(img)\n",
        "    lbl_pred.value = f'Prediction: {pred}; Probability: {probs[pred_idx]:.04f}'\n",
        "\n",
        "btn_run.on_click(on_click_classify)"
      ],
      "execution_count": null,
      "outputs": []
    },
    {
      "cell_type": "markdown",
      "metadata": {
        "id": "TZQueSN03REd"
      },
      "source": [
        "> The VBox function. We can use it to put everything in an order to make a cleaner looking UI."
      ]
    },
    {
      "cell_type": "code",
      "metadata": {
        "colab": {
          "base_uri": "https://localhost:8080/",
          "height": 145,
          "referenced_widgets": [
            "5f404a52202140e9b94457b8e548e5d4",
            "3eb624eda0364ef98d24bdf4b9d289a9",
            "c3a00deb155d4bd39b57da7faa994f62",
            "0ba70451d12b48fc9a345bafe992dfcc",
            "274636c1eb764ee8b994e13428c3ef44",
            "5daade782d2242bc88d9fb4a0f02578a",
            "edf24907e3b64087882d9c6b92162705",
            "dbe7ee17cbb0480eafa48a289c14c6df",
            "6bcb495419da47f684d72b6a8c0b516f",
            "0a750bd426a5463d8c41205988e77cfd",
            "9c425c20377840668430ca84e1fd4978",
            "337fee7201cb469ea6019e3061a4707f",
            "d31ef7e2e0dd41008effb99ca21ffca1",
            "f371b5d6cbb7429383b7d8d512f4ab09",
            "009c36cf982b4d918ca0d63de34f7b24",
            "8a75049fb05f45459fb1e7b988f4dfe3"
          ]
        },
        "id": "tzVvueT_-k5-",
        "outputId": "5e8693e2-a2c5-41ff-a3e0-585fd461b6fc"
      },
      "source": [
        "VBox([widgets.Label('Do you want to know you flower? Upload a Photo...'), \n",
        "      btn_upload, btn_run, out_pl, lbl_pred])"
      ],
      "execution_count": null,
      "outputs": [
        {
          "output_type": "display_data",
          "data": {
            "application/vnd.jupyter.widget-view+json": {
              "model_id": "5f404a52202140e9b94457b8e548e5d4",
              "version_minor": 0,
              "version_major": 2
            },
            "text/plain": [
              "VBox(children=(Label(value='Do you want to know you flower? Upload a Photo...'), FileUpload(value={}, descript…"
            ]
          },
          "metadata": {
            "tags": []
          }
        }
      ]
    },
    {
      "cell_type": "markdown",
      "metadata": {
        "id": "tf4taZweqZVy"
      },
      "source": [
        "# Workshop Resources"
      ]
    },
    {
      "cell_type": "markdown",
      "metadata": {
        "id": "hohfae-p4e8L"
      },
      "source": [
        "> The [Github Repository](https://github.com/AlaFalaki/workshop-materials/tree/main/2021-practical-deep-learning) contains all the notebooks and materials presented in this workshop."
      ]
    }
  ]
}