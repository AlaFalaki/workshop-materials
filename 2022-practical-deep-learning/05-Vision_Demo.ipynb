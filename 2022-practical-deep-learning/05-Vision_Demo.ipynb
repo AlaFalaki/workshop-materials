{
  "nbformat": 4,
  "nbformat_minor": 0,
  "metadata": {
    "colab": {
      "name": "05-Vision_Demo.ipynb",
      "provenance": [],
      "collapsed_sections": [],
      "include_colab_link": true
    },
    "kernelspec": {
      "display_name": "Python 3",
      "name": "python3"
    },
    "language_info": {
      "name": "python"
    },
    "widgets": {
      "application/vnd.jupyter.widget-state+json": {
        "b3e74e6490514fc9959d8a29526ce7f1": {
          "model_module": "@jupyter-widgets/controls",
          "model_name": "VBoxModel",
          "model_module_version": "1.5.0",
          "state": {
            "_view_name": "VBoxView",
            "_dom_classes": [],
            "_model_name": "VBoxModel",
            "_view_module": "@jupyter-widgets/controls",
            "_model_module_version": "1.5.0",
            "_view_count": null,
            "_view_module_version": "1.5.0",
            "box_style": "",
            "layout": "IPY_MODEL_a3346c7e19324ba6a33d0a05b7913f7e",
            "_model_module": "@jupyter-widgets/controls",
            "children": [
              "IPY_MODEL_bd1c7e5b256c419ab91e5c8108ad9e25",
              "IPY_MODEL_263d5ea5ae5048c2b75783043d7043ee",
              "IPY_MODEL_4675fc85caaa41fda3150bd4120e1a5a",
              "IPY_MODEL_1877e76d02fe43ea9387d0474f7d4690",
              "IPY_MODEL_d294d865257d4321a4f80b612d812645"
            ]
          }
        },
        "a3346c7e19324ba6a33d0a05b7913f7e": {
          "model_module": "@jupyter-widgets/base",
          "model_name": "LayoutModel",
          "model_module_version": "1.2.0",
          "state": {
            "_view_name": "LayoutView",
            "grid_template_rows": null,
            "right": null,
            "justify_content": null,
            "_view_module": "@jupyter-widgets/base",
            "overflow": null,
            "_model_module_version": "1.2.0",
            "_view_count": null,
            "flex_flow": null,
            "width": null,
            "min_width": null,
            "border": null,
            "align_items": null,
            "bottom": null,
            "_model_module": "@jupyter-widgets/base",
            "top": null,
            "grid_column": null,
            "overflow_y": null,
            "overflow_x": null,
            "grid_auto_flow": null,
            "grid_area": null,
            "grid_template_columns": null,
            "flex": null,
            "_model_name": "LayoutModel",
            "justify_items": null,
            "grid_row": null,
            "max_height": null,
            "align_content": null,
            "visibility": null,
            "align_self": null,
            "height": null,
            "min_height": null,
            "padding": null,
            "grid_auto_rows": null,
            "grid_gap": null,
            "max_width": null,
            "order": null,
            "_view_module_version": "1.2.0",
            "grid_template_areas": null,
            "object_position": null,
            "object_fit": null,
            "grid_auto_columns": null,
            "margin": null,
            "display": null,
            "left": null
          }
        },
        "bd1c7e5b256c419ab91e5c8108ad9e25": {
          "model_module": "@jupyter-widgets/controls",
          "model_name": "LabelModel",
          "model_module_version": "1.5.0",
          "state": {
            "_view_name": "LabelView",
            "style": "IPY_MODEL_d3cf5f63a1184fe195a53d5a022aa38e",
            "_dom_classes": [],
            "description": "",
            "_model_name": "LabelModel",
            "placeholder": "​",
            "_view_module": "@jupyter-widgets/controls",
            "_model_module_version": "1.5.0",
            "value": "Do you want to know your flower? Upload a Photo...",
            "_view_count": null,
            "_view_module_version": "1.5.0",
            "description_tooltip": null,
            "_model_module": "@jupyter-widgets/controls",
            "layout": "IPY_MODEL_38a648b569c0431994aaba55047db817"
          }
        },
        "263d5ea5ae5048c2b75783043d7043ee": {
          "model_module": "@jupyter-widgets/controls",
          "model_name": "FileUploadModel",
          "model_module_version": "1.5.0",
          "state": {
            "_view_name": "FileUploadView",
            "_counter": 1,
            "style": "IPY_MODEL_fc5912d34b8b455daa5bfddc66d4c086",
            "_dom_classes": [],
            "description": "Upload",
            "multiple": false,
            "_model_name": "FileUploadModel",
            "data": [
              null
            ],
            "button_style": "",
            "_view_module": "@jupyter-widgets/controls",
            "_model_module_version": "1.5.0",
            "accept": "",
            "_view_count": null,
            "disabled": false,
            "_view_module_version": "1.5.0",
            "error": "",
            "description_tooltip": null,
            "metadata": [
              {
                "name": "sunflower.jpg",
                "type": "image/jpeg",
                "size": 33520,
                "lastModified": 1626901235212
              }
            ],
            "_model_module": "@jupyter-widgets/controls",
            "layout": "IPY_MODEL_5622bb0f9f6f47808191cfe8a3b2b34a",
            "icon": "upload"
          }
        },
        "4675fc85caaa41fda3150bd4120e1a5a": {
          "model_module": "@jupyter-widgets/controls",
          "model_name": "ButtonModel",
          "model_module_version": "1.5.0",
          "state": {
            "_view_name": "ButtonView",
            "style": "IPY_MODEL_6d971fd5502c40ee9389b66ecf172b92",
            "_dom_classes": [],
            "description": "Classify",
            "_model_name": "ButtonModel",
            "button_style": "",
            "_view_module": "@jupyter-widgets/controls",
            "_model_module_version": "1.5.0",
            "tooltip": "",
            "_view_count": null,
            "disabled": false,
            "_view_module_version": "1.5.0",
            "layout": "IPY_MODEL_3b9c334c3d534b1d983794f739a78860",
            "_model_module": "@jupyter-widgets/controls",
            "icon": ""
          }
        },
        "1877e76d02fe43ea9387d0474f7d4690": {
          "model_module": "@jupyter-widgets/output",
          "model_name": "OutputModel",
          "model_module_version": "1.0.0",
          "state": {
            "_view_name": "OutputView",
            "msg_id": "",
            "_dom_classes": [],
            "_model_name": "OutputModel",
            "outputs": [
              {
                "output_type": "display_data",
                "data": {
                  "image/png": "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\n",
                  "text/plain": "<PIL.Image.Image image mode=RGB size=128x128 at 0x7FB971A783D0>"
                },
                "metadata": {}
              }
            ],
            "_view_module": "@jupyter-widgets/output",
            "_model_module_version": "1.0.0",
            "_view_count": null,
            "_view_module_version": "1.0.0",
            "layout": "IPY_MODEL_eb75c6a398bd4338a38520b97ef3ab46",
            "_model_module": "@jupyter-widgets/output"
          }
        },
        "d294d865257d4321a4f80b612d812645": {
          "model_module": "@jupyter-widgets/controls",
          "model_name": "LabelModel",
          "model_module_version": "1.5.0",
          "state": {
            "_view_name": "LabelView",
            "style": "IPY_MODEL_15c57b0e13334045a4b564c9ca6761bb",
            "_dom_classes": [],
            "description": "",
            "_model_name": "LabelModel",
            "placeholder": "​",
            "_view_module": "@jupyter-widgets/controls",
            "_model_module_version": "1.5.0",
            "value": "Prediction: sunflower; Probability: 0.9924",
            "_view_count": null,
            "_view_module_version": "1.5.0",
            "description_tooltip": null,
            "_model_module": "@jupyter-widgets/controls",
            "layout": "IPY_MODEL_3803940dc7604d3c9dd1838622565703"
          }
        },
        "d3cf5f63a1184fe195a53d5a022aa38e": {
          "model_module": "@jupyter-widgets/controls",
          "model_name": "DescriptionStyleModel",
          "model_module_version": "1.5.0",
          "state": {
            "_view_name": "StyleView",
            "_model_name": "DescriptionStyleModel",
            "description_width": "",
            "_view_module": "@jupyter-widgets/base",
            "_model_module_version": "1.5.0",
            "_view_count": null,
            "_view_module_version": "1.2.0",
            "_model_module": "@jupyter-widgets/controls"
          }
        },
        "38a648b569c0431994aaba55047db817": {
          "model_module": "@jupyter-widgets/base",
          "model_name": "LayoutModel",
          "model_module_version": "1.2.0",
          "state": {
            "_view_name": "LayoutView",
            "grid_template_rows": null,
            "right": null,
            "justify_content": null,
            "_view_module": "@jupyter-widgets/base",
            "overflow": null,
            "_model_module_version": "1.2.0",
            "_view_count": null,
            "flex_flow": null,
            "width": null,
            "min_width": null,
            "border": null,
            "align_items": null,
            "bottom": null,
            "_model_module": "@jupyter-widgets/base",
            "top": null,
            "grid_column": null,
            "overflow_y": null,
            "overflow_x": null,
            "grid_auto_flow": null,
            "grid_area": null,
            "grid_template_columns": null,
            "flex": null,
            "_model_name": "LayoutModel",
            "justify_items": null,
            "grid_row": null,
            "max_height": null,
            "align_content": null,
            "visibility": null,
            "align_self": null,
            "height": null,
            "min_height": null,
            "padding": null,
            "grid_auto_rows": null,
            "grid_gap": null,
            "max_width": null,
            "order": null,
            "_view_module_version": "1.2.0",
            "grid_template_areas": null,
            "object_position": null,
            "object_fit": null,
            "grid_auto_columns": null,
            "margin": null,
            "display": null,
            "left": null
          }
        },
        "fc5912d34b8b455daa5bfddc66d4c086": {
          "model_module": "@jupyter-widgets/controls",
          "model_name": "ButtonStyleModel",
          "model_module_version": "1.5.0",
          "state": {
            "_view_name": "StyleView",
            "_model_name": "ButtonStyleModel",
            "_view_module": "@jupyter-widgets/base",
            "_model_module_version": "1.5.0",
            "_view_count": null,
            "button_color": null,
            "font_weight": "",
            "_view_module_version": "1.2.0",
            "_model_module": "@jupyter-widgets/controls"
          }
        },
        "5622bb0f9f6f47808191cfe8a3b2b34a": {
          "model_module": "@jupyter-widgets/base",
          "model_name": "LayoutModel",
          "model_module_version": "1.2.0",
          "state": {
            "_view_name": "LayoutView",
            "grid_template_rows": null,
            "right": null,
            "justify_content": null,
            "_view_module": "@jupyter-widgets/base",
            "overflow": null,
            "_model_module_version": "1.2.0",
            "_view_count": null,
            "flex_flow": null,
            "width": null,
            "min_width": null,
            "border": null,
            "align_items": null,
            "bottom": null,
            "_model_module": "@jupyter-widgets/base",
            "top": null,
            "grid_column": null,
            "overflow_y": null,
            "overflow_x": null,
            "grid_auto_flow": null,
            "grid_area": null,
            "grid_template_columns": null,
            "flex": null,
            "_model_name": "LayoutModel",
            "justify_items": null,
            "grid_row": null,
            "max_height": null,
            "align_content": null,
            "visibility": null,
            "align_self": null,
            "height": null,
            "min_height": null,
            "padding": null,
            "grid_auto_rows": null,
            "grid_gap": null,
            "max_width": null,
            "order": null,
            "_view_module_version": "1.2.0",
            "grid_template_areas": null,
            "object_position": null,
            "object_fit": null,
            "grid_auto_columns": null,
            "margin": null,
            "display": null,
            "left": null
          }
        },
        "6d971fd5502c40ee9389b66ecf172b92": {
          "model_module": "@jupyter-widgets/controls",
          "model_name": "ButtonStyleModel",
          "model_module_version": "1.5.0",
          "state": {
            "_view_name": "StyleView",
            "_model_name": "ButtonStyleModel",
            "_view_module": "@jupyter-widgets/base",
            "_model_module_version": "1.5.0",
            "_view_count": null,
            "button_color": null,
            "font_weight": "",
            "_view_module_version": "1.2.0",
            "_model_module": "@jupyter-widgets/controls"
          }
        },
        "3b9c334c3d534b1d983794f739a78860": {
          "model_module": "@jupyter-widgets/base",
          "model_name": "LayoutModel",
          "model_module_version": "1.2.0",
          "state": {
            "_view_name": "LayoutView",
            "grid_template_rows": null,
            "right": null,
            "justify_content": null,
            "_view_module": "@jupyter-widgets/base",
            "overflow": null,
            "_model_module_version": "1.2.0",
            "_view_count": null,
            "flex_flow": null,
            "width": null,
            "min_width": null,
            "border": null,
            "align_items": null,
            "bottom": null,
            "_model_module": "@jupyter-widgets/base",
            "top": null,
            "grid_column": null,
            "overflow_y": null,
            "overflow_x": null,
            "grid_auto_flow": null,
            "grid_area": null,
            "grid_template_columns": null,
            "flex": null,
            "_model_name": "LayoutModel",
            "justify_items": null,
            "grid_row": null,
            "max_height": null,
            "align_content": null,
            "visibility": null,
            "align_self": null,
            "height": null,
            "min_height": null,
            "padding": null,
            "grid_auto_rows": null,
            "grid_gap": null,
            "max_width": null,
            "order": null,
            "_view_module_version": "1.2.0",
            "grid_template_areas": null,
            "object_position": null,
            "object_fit": null,
            "grid_auto_columns": null,
            "margin": null,
            "display": null,
            "left": null
          }
        },
        "15c57b0e13334045a4b564c9ca6761bb": {
          "model_module": "@jupyter-widgets/controls",
          "model_name": "DescriptionStyleModel",
          "model_module_version": "1.5.0",
          "state": {
            "_view_name": "StyleView",
            "_model_name": "DescriptionStyleModel",
            "description_width": "",
            "_view_module": "@jupyter-widgets/base",
            "_model_module_version": "1.5.0",
            "_view_count": null,
            "_view_module_version": "1.2.0",
            "_model_module": "@jupyter-widgets/controls"
          }
        },
        "3803940dc7604d3c9dd1838622565703": {
          "model_module": "@jupyter-widgets/base",
          "model_name": "LayoutModel",
          "model_module_version": "1.2.0",
          "state": {
            "_view_name": "LayoutView",
            "grid_template_rows": null,
            "right": null,
            "justify_content": null,
            "_view_module": "@jupyter-widgets/base",
            "overflow": null,
            "_model_module_version": "1.2.0",
            "_view_count": null,
            "flex_flow": null,
            "width": null,
            "min_width": null,
            "border": null,
            "align_items": null,
            "bottom": null,
            "_model_module": "@jupyter-widgets/base",
            "top": null,
            "grid_column": null,
            "overflow_y": null,
            "overflow_x": null,
            "grid_auto_flow": null,
            "grid_area": null,
            "grid_template_columns": null,
            "flex": null,
            "_model_name": "LayoutModel",
            "justify_items": null,
            "grid_row": null,
            "max_height": null,
            "align_content": null,
            "visibility": null,
            "align_self": null,
            "height": null,
            "min_height": null,
            "padding": null,
            "grid_auto_rows": null,
            "grid_gap": null,
            "max_width": null,
            "order": null,
            "_view_module_version": "1.2.0",
            "grid_template_areas": null,
            "object_position": null,
            "object_fit": null,
            "grid_auto_columns": null,
            "margin": null,
            "display": null,
            "left": null
          }
        },
        "eb75c6a398bd4338a38520b97ef3ab46": {
          "model_module": "@jupyter-widgets/base",
          "model_name": "LayoutModel",
          "model_module_version": "1.2.0",
          "state": {
            "_view_name": "LayoutView",
            "grid_template_rows": null,
            "right": null,
            "justify_content": null,
            "_view_module": "@jupyter-widgets/base",
            "overflow": null,
            "_model_module_version": "1.2.0",
            "_view_count": null,
            "flex_flow": null,
            "width": null,
            "min_width": null,
            "border": null,
            "align_items": null,
            "bottom": null,
            "_model_module": "@jupyter-widgets/base",
            "top": null,
            "grid_column": null,
            "overflow_y": null,
            "overflow_x": null,
            "grid_auto_flow": null,
            "grid_area": null,
            "grid_template_columns": null,
            "flex": null,
            "_model_name": "LayoutModel",
            "justify_items": null,
            "grid_row": null,
            "max_height": null,
            "align_content": null,
            "visibility": null,
            "align_self": null,
            "height": null,
            "min_height": null,
            "padding": null,
            "grid_auto_rows": null,
            "grid_gap": null,
            "max_width": null,
            "order": null,
            "_view_module_version": "1.2.0",
            "grid_template_areas": null,
            "object_position": null,
            "object_fit": null,
            "grid_auto_columns": null,
            "margin": null,
            "display": null,
            "left": null
          }
        }
      }
    },
    "accelerator": "GPU"
  },
  "cells": [
    {
      "cell_type": "markdown",
      "metadata": {
        "id": "view-in-github",
        "colab_type": "text"
      },
      "source": [
        "<a href=\"https://colab.research.google.com/github/AlaFalaki/workshop-materials/blob/main/2022-practical-deep-learning/05-Vision_Demo.ipynb\" target=\"_parent\"><img src=\"https://colab.research.google.com/assets/colab-badge.svg\" alt=\"Open In Colab\"/></a>"
      ]
    },
    {
      "cell_type": "markdown",
      "metadata": {
        "id": "QxCZ9r969-44"
      },
      "source": [
        "# Practical Deep Learning Workshop"
      ]
    },
    {
      "cell_type": "markdown",
      "metadata": {
        "id": "vxjOkBiuJ7ol"
      },
      "source": [
        "# Demo (Vision)\n",
        "\n",
        "* See how to make simple UI,\n",
        "* And, how to use our model in an application"
      ]
    },
    {
      "cell_type": "markdown",
      "metadata": {
        "id": "6YoygaagkZXr"
      },
      "source": [
        "# Install FastAI2"
      ]
    },
    {
      "cell_type": "markdown",
      "metadata": {
        "id": "FQIHL4dKjham"
      },
      "source": [
        "> Run the cell below to install FastAI2. <br /><br />\n",
        "> ⚠️ Make sure to restart the current runtime after the installation for changes to affect. Select 'Runtime' From the top menu and click on 'Restart Runtime'."
      ]
    },
    {
      "cell_type": "code",
      "metadata": {
        "id": "JE4ETrVnh7aN",
        "colab": {
          "base_uri": "https://localhost:8080/"
        },
        "outputId": "4f07b4bd-2c8b-4d03-a95e-4e56cb777fa0"
      },
      "source": [
        "!pip install -Uq fastai"
      ],
      "execution_count": null,
      "outputs": [
        {
          "output_type": "stream",
          "name": "stdout",
          "text": [
            "\u001b[K     |████████████████████████████████| 189 kB 4.4 MB/s \n",
            "\u001b[K     |████████████████████████████████| 55 kB 1.9 MB/s \n",
            "\u001b[?25h"
          ]
        }
      ]
    },
    {
      "cell_type": "code",
      "metadata": {
        "id": "3oN75flV0y8L"
      },
      "source": [
        "from fastai.vision.all import *\n",
        "\n",
        "import warnings\n",
        "warnings.filterwarnings('ignore')"
      ],
      "execution_count": null,
      "outputs": []
    },
    {
      "cell_type": "markdown",
      "metadata": {
        "id": "aIYVI0zuyOLv"
      },
      "source": [
        "# Load the Model"
      ]
    },
    {
      "cell_type": "markdown",
      "metadata": {
        "id": "-UbhePsI1WMZ"
      },
      "source": [
        "> You can download the model used in the demo from [this link](https://drive.google.com/file/d/1X0H0Zbf_tOp58dMUFOq4I1UjLI0WRl3F/view?usp=sharing) (finetuned_cls.pkl file, do not uncompress it) and upload it to this Colab instance by chosing the Files menu from the left sidebar. It is the same model that we trained in \"03-Vision_Part1\" notebook."
      ]
    },
    {
      "cell_type": "code",
      "metadata": {
        "id": "XSwuiDYCyRG1"
      },
      "source": [
        "def get_x(x): return path/x['link']\n",
        "def get_y(x): return x['label']\n",
        "\n",
        "learn = load_learner(\"vision_finetuned_cls\")"
      ],
      "execution_count": null,
      "outputs": []
    },
    {
      "cell_type": "markdown",
      "metadata": {
        "id": "WeLVOWa82hLC"
      },
      "source": [
        "# Make the UI with FastAi Widgets"
      ]
    },
    {
      "cell_type": "code",
      "metadata": {
        "id": "XOrOtQTE9T-q"
      },
      "source": [
        "from fastai.vision.widgets import *"
      ],
      "execution_count": null,
      "outputs": []
    },
    {
      "cell_type": "markdown",
      "metadata": {
        "id": "XJIGDrsp2l03"
      },
      "source": [
        "> The fileuploader element."
      ]
    },
    {
      "cell_type": "code",
      "metadata": {
        "id": "i-wrdtRd-zUh"
      },
      "source": [
        "btn_upload = widgets.FileUpload()"
      ],
      "execution_count": null,
      "outputs": []
    },
    {
      "cell_type": "markdown",
      "metadata": {
        "id": "87gmTFE-2qLZ"
      },
      "source": [
        "> The Output module to display the uploaded image."
      ]
    },
    {
      "cell_type": "code",
      "metadata": {
        "id": "alNImNei-6qY"
      },
      "source": [
        "out_pl = widgets.Output()"
      ],
      "execution_count": null,
      "outputs": []
    },
    {
      "cell_type": "markdown",
      "metadata": {
        "id": "QrgtOMid2wVM"
      },
      "source": [
        "> A label, so we can show the model prediction."
      ]
    },
    {
      "cell_type": "code",
      "metadata": {
        "id": "gNG4RVWs_OzA"
      },
      "source": [
        "lbl_pred = widgets.Label()\n",
        "lbl_pred.value = f'Waiting for Result...'"
      ],
      "execution_count": null,
      "outputs": []
    },
    {
      "cell_type": "markdown",
      "metadata": {
        "id": "vXI_ug0m2352"
      },
      "source": [
        "> A button to trigger the model for making a prediction. We also have the *on_click_classify* function, which we will connect to the button's onclick attribute. So, everytime you click the Classify button, this function will run."
      ]
    },
    {
      "cell_type": "code",
      "metadata": {
        "id": "VNBtVXna-oQ3"
      },
      "source": [
        "btn_run = widgets.Button(description='Classify')"
      ],
      "execution_count": null,
      "outputs": []
    },
    {
      "cell_type": "code",
      "metadata": {
        "id": "hDMMVYdg-XjS"
      },
      "source": [
        "def on_click_classify(change):\n",
        "    img = PILImage.create(btn_upload.data[-1])\n",
        "    out_pl.clear_output()\n",
        "    with out_pl: display(img.to_thumb(128,128))\n",
        "    pred, pred_idx,probs = learn.predict(img)\n",
        "    lbl_pred.value = f'Prediction: {pred}; Probability: {probs[pred_idx]:.04f}'\n",
        "\n",
        "btn_run.on_click(on_click_classify)"
      ],
      "execution_count": null,
      "outputs": []
    },
    {
      "cell_type": "markdown",
      "metadata": {
        "id": "TZQueSN03REd"
      },
      "source": [
        "> The VBox function. We can use it to put everything in an order to make a cleaner looking UI."
      ]
    },
    {
      "cell_type": "code",
      "metadata": {
        "colab": {
          "base_uri": "https://localhost:8080/",
          "height": 273,
          "referenced_widgets": [
            "b3e74e6490514fc9959d8a29526ce7f1",
            "a3346c7e19324ba6a33d0a05b7913f7e",
            "bd1c7e5b256c419ab91e5c8108ad9e25",
            "263d5ea5ae5048c2b75783043d7043ee",
            "4675fc85caaa41fda3150bd4120e1a5a",
            "1877e76d02fe43ea9387d0474f7d4690",
            "d294d865257d4321a4f80b612d812645",
            "d3cf5f63a1184fe195a53d5a022aa38e",
            "38a648b569c0431994aaba55047db817",
            "fc5912d34b8b455daa5bfddc66d4c086",
            "5622bb0f9f6f47808191cfe8a3b2b34a",
            "6d971fd5502c40ee9389b66ecf172b92",
            "3b9c334c3d534b1d983794f739a78860",
            "15c57b0e13334045a4b564c9ca6761bb",
            "3803940dc7604d3c9dd1838622565703",
            "eb75c6a398bd4338a38520b97ef3ab46"
          ]
        },
        "id": "tzVvueT_-k5-",
        "outputId": "14a6ef7f-9811-40af-cf38-ec9702883885"
      },
      "source": [
        "VBox([widgets.Label('Do you want to know your flower? Upload a Photo...'), \n",
        "      btn_upload, btn_run, out_pl, lbl_pred])"
      ],
      "execution_count": null,
      "outputs": [
        {
          "output_type": "display_data",
          "data": {
            "application/vnd.jupyter.widget-view+json": {
              "model_id": "b3e74e6490514fc9959d8a29526ce7f1",
              "version_minor": 0,
              "version_major": 2
            },
            "text/plain": [
              "VBox(children=(Label(value='Do you want to know your flower? Upload a Photo...'), FileUpload(value={}, descrip…"
            ]
          },
          "metadata": {}
        },
        {
          "output_type": "display_data",
          "data": {
            "text/html": [
              "\n",
              "<style>\n",
              "    /* Turns off some styling */\n",
              "    progress {\n",
              "        /* gets rid of default border in Firefox and Opera. */\n",
              "        border: none;\n",
              "        /* Needs to be in here for Safari polyfill so background images work as expected. */\n",
              "        background-size: auto;\n",
              "    }\n",
              "    .progress-bar-interrupted, .progress-bar-interrupted::-webkit-progress-bar {\n",
              "        background: #F44336;\n",
              "    }\n",
              "</style>\n"
            ],
            "text/plain": [
              "<IPython.core.display.HTML object>"
            ]
          },
          "metadata": {}
        },
        {
          "output_type": "display_data",
          "data": {
            "text/html": [
              ""
            ],
            "text/plain": [
              "<IPython.core.display.HTML object>"
            ]
          },
          "metadata": {}
        }
      ]
    },
    {
      "cell_type": "markdown",
      "metadata": {
        "id": "tf4taZweqZVy"
      },
      "source": [
        "# Workshop Resources"
      ]
    },
    {
      "cell_type": "markdown",
      "metadata": {
        "id": "hohfae-p4e8L"
      },
      "source": [
        "> The [Github Repository](https://github.com/AlaFalaki/workshop-materials/tree/main/2022-practical-deep-learning) contains all the notebooks and materials presented in this workshop."
      ]
    }
  ]
}